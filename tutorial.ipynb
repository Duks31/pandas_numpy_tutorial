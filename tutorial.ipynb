{
 "cells": [
  {
   "cell_type": "markdown",
   "metadata": {},
   "source": [
    "PANDAS"
   ]
  },
  {
   "cell_type": "code",
   "execution_count": null,
   "metadata": {},
   "outputs": [],
   "source": [
    "# Importing pandas\n",
    "import pandas as pd"
   ]
  },
  {
   "cell_type": "code",
   "execution_count": 40,
   "metadata": {},
   "outputs": [
    {
     "data": {
      "text/plain": [
       "pandas.core.series.Series"
      ]
     },
     "execution_count": 40,
     "metadata": {},
     "output_type": "execute_result"
    }
   ],
   "source": [
    "# Series -> One dimensional arrays that can store various data types. \n",
    "\n",
    "h = ('AA', '2012-02-01', 100, 10.2) # converting tuple to series\n",
    "s = pd.Series(h)\n",
    "\n",
    "type(s)"
   ]
  },
  {
   "cell_type": "code",
   "execution_count": 41,
   "metadata": {},
   "outputs": [
    {
     "data": {
      "text/plain": [
       "0            AA\n",
       "1    2012-02-01\n",
       "2           100\n",
       "3          10.2\n",
       "dtype: object"
      ]
     },
     "execution_count": 41,
     "metadata": {},
     "output_type": "execute_result"
    }
   ],
   "source": [
    "s"
   ]
  },
  {
   "cell_type": "code",
   "execution_count": 43,
   "metadata": {},
   "outputs": [
    {
     "name": "stdout",
     "output_type": "stream",
     "text": [
      "name             IBM\n",
      "date      2010-09-08\n",
      "shares           100\n",
      "price           10.2\n",
      "dtype: object\n"
     ]
    }
   ],
   "source": [
    "# converting dict to Series\n",
    "d = {'name': 'IBM', 'date':'2010-09-08','shares':100, 'price':10.2}\n",
    "ds = pd.Series(d)\n",
    "# print(d)\n",
    "print(ds)"
   ]
  },
  {
   "cell_type": "code",
   "execution_count": 44,
   "metadata": {},
   "outputs": [
    {
     "data": {
      "text/plain": [
       "pandas.core.series.Series"
      ]
     },
     "execution_count": 44,
     "metadata": {},
     "output_type": "execute_result"
    }
   ],
   "source": [
    "type(ds)"
   ]
  },
  {
   "cell_type": "code",
   "execution_count": 45,
   "metadata": {},
   "outputs": [
    {
     "data": {
      "text/plain": [
       "name                 Jim\n",
       "date          2001-08-02\n",
       "amount                90\n",
       "percentage           3.2\n",
       "dtype: object"
      ]
     },
     "execution_count": 45,
     "metadata": {},
     "output_type": "execute_result"
    }
   ],
   "source": [
    "m =  ['Jim', '2001-08-02', 90, 3.2]\n",
    "m = pd.Series(m, index=['name', 'date', 'amount', 'percentage'])\n",
    "m"
   ]
  },
  {
   "cell_type": "code",
   "execution_count": 46,
   "metadata": {},
   "outputs": [
    {
     "data": {
      "text/plain": [
       "3.2"
      ]
     },
     "execution_count": 46,
     "metadata": {},
     "output_type": "execute_result"
    }
   ],
   "source": [
    "m['percentage']"
   ]
  },
  {
   "cell_type": "code",
   "execution_count": 48,
   "metadata": {},
   "outputs": [
    {
     "data": {
      "text/plain": [
       "name          Jim\n",
       "percentage    3.2\n",
       "amount         90\n",
       "dtype: object"
      ]
     },
     "execution_count": 48,
     "metadata": {},
     "output_type": "execute_result"
    }
   ],
   "source": [
    "m[['name', 'percentage', 'amount']]"
   ]
  },
  {
   "cell_type": "code",
   "execution_count": 49,
   "metadata": {},
   "outputs": [],
   "source": [
    "# DataFrame -> Two Dimensional arrays (row and colum index) \n",
    "\n",
    "data = {\n",
    "    'name': [ 'Jim', 'Ray', 'Paul'],\n",
    "    'shares': [ '10', '13', '12'],\n",
    "    'price': [ '200', '131', '144'],\n",
    "    'color':  [ 'blue', 'red', 'pink'],\n",
    "}"
   ]
  },
  {
   "cell_type": "code",
   "execution_count": 50,
   "metadata": {},
   "outputs": [
    {
     "data": {
      "text/plain": [
       "dict"
      ]
     },
     "execution_count": 50,
     "metadata": {},
     "output_type": "execute_result"
    }
   ],
   "source": [
    "type(data)"
   ]
  },
  {
   "cell_type": "code",
   "execution_count": 51,
   "metadata": {},
   "outputs": [
    {
     "data": {
      "text/plain": [
       "{'name': ['Jim', 'Ray', 'Paul'],\n",
       " 'shares': ['10', '13', '12'],\n",
       " 'price': ['200', '131', '144'],\n",
       " 'color': ['blue', 'red', 'pink']}"
      ]
     },
     "execution_count": 51,
     "metadata": {},
     "output_type": "execute_result"
    }
   ],
   "source": [
    "data"
   ]
  },
  {
   "cell_type": "code",
   "execution_count": 54,
   "metadata": {},
   "outputs": [
    {
     "data": {
      "text/plain": [
       "pandas.core.frame.DataFrame"
      ]
     },
     "execution_count": 54,
     "metadata": {},
     "output_type": "execute_result"
    }
   ],
   "source": [
    "df = pd.DataFrame(data=data)\n",
    "type(df)\n",
    "\n"
   ]
  },
  {
   "cell_type": "code",
   "execution_count": 53,
   "metadata": {},
   "outputs": [
    {
     "data": {
      "text/html": [
       "<div>\n",
       "<style scoped>\n",
       "    .dataframe tbody tr th:only-of-type {\n",
       "        vertical-align: middle;\n",
       "    }\n",
       "\n",
       "    .dataframe tbody tr th {\n",
       "        vertical-align: top;\n",
       "    }\n",
       "\n",
       "    .dataframe thead th {\n",
       "        text-align: right;\n",
       "    }\n",
       "</style>\n",
       "<table border=\"1\" class=\"dataframe\">\n",
       "  <thead>\n",
       "    <tr style=\"text-align: right;\">\n",
       "      <th></th>\n",
       "      <th>name</th>\n",
       "      <th>shares</th>\n",
       "      <th>price</th>\n",
       "      <th>color</th>\n",
       "    </tr>\n",
       "  </thead>\n",
       "  <tbody>\n",
       "    <tr>\n",
       "      <th>0</th>\n",
       "      <td>Jim</td>\n",
       "      <td>10</td>\n",
       "      <td>200</td>\n",
       "      <td>blue</td>\n",
       "    </tr>\n",
       "    <tr>\n",
       "      <th>1</th>\n",
       "      <td>Ray</td>\n",
       "      <td>13</td>\n",
       "      <td>131</td>\n",
       "      <td>red</td>\n",
       "    </tr>\n",
       "    <tr>\n",
       "      <th>2</th>\n",
       "      <td>Paul</td>\n",
       "      <td>12</td>\n",
       "      <td>144</td>\n",
       "      <td>pink</td>\n",
       "    </tr>\n",
       "  </tbody>\n",
       "</table>\n",
       "</div>"
      ],
      "text/plain": [
       "   name shares price color\n",
       "0   Jim     10   200  blue\n",
       "1   Ray     13   131   red\n",
       "2  Paul     12   144  pink"
      ]
     },
     "execution_count": 53,
     "metadata": {},
     "output_type": "execute_result"
    }
   ],
   "source": [
    "df"
   ]
  },
  {
   "cell_type": "code",
   "execution_count": 55,
   "metadata": {},
   "outputs": [
    {
     "data": {
      "text/html": [
       "<div>\n",
       "<style scoped>\n",
       "    .dataframe tbody tr th:only-of-type {\n",
       "        vertical-align: middle;\n",
       "    }\n",
       "\n",
       "    .dataframe tbody tr th {\n",
       "        vertical-align: top;\n",
       "    }\n",
       "\n",
       "    .dataframe thead th {\n",
       "        text-align: right;\n",
       "    }\n",
       "</style>\n",
       "<table border=\"1\" class=\"dataframe\">\n",
       "  <thead>\n",
       "    <tr style=\"text-align: right;\">\n",
       "      <th></th>\n",
       "      <th>name</th>\n",
       "      <th>shares</th>\n",
       "      <th>price</th>\n",
       "      <th>color</th>\n",
       "      <th>size</th>\n",
       "    </tr>\n",
       "  </thead>\n",
       "  <tbody>\n",
       "    <tr>\n",
       "      <th>0</th>\n",
       "      <td>Jim</td>\n",
       "      <td>10</td>\n",
       "      <td>200</td>\n",
       "      <td>blue</td>\n",
       "      <td>big</td>\n",
       "    </tr>\n",
       "    <tr>\n",
       "      <th>1</th>\n",
       "      <td>Ray</td>\n",
       "      <td>13</td>\n",
       "      <td>131</td>\n",
       "      <td>red</td>\n",
       "      <td>small</td>\n",
       "    </tr>\n",
       "    <tr>\n",
       "      <th>2</th>\n",
       "      <td>Paul</td>\n",
       "      <td>12</td>\n",
       "      <td>144</td>\n",
       "      <td>pink</td>\n",
       "      <td>large</td>\n",
       "    </tr>\n",
       "  </tbody>\n",
       "</table>\n",
       "</div>"
      ],
      "text/plain": [
       "   name shares price color   size\n",
       "0   Jim     10   200  blue    big\n",
       "1   Ray     13   131   red  small\n",
       "2  Paul     12   144  pink  large"
      ]
     },
     "execution_count": 55,
     "metadata": {},
     "output_type": "execute_result"
    }
   ],
   "source": [
    "df['size'] = ['big', 'small', 'large'] # adding new column \n",
    "df"
   ]
  },
  {
   "cell_type": "code",
   "execution_count": 56,
   "metadata": {},
   "outputs": [
    {
     "data": {
      "text/html": [
       "<div>\n",
       "<style scoped>\n",
       "    .dataframe tbody tr th:only-of-type {\n",
       "        vertical-align: middle;\n",
       "    }\n",
       "\n",
       "    .dataframe tbody tr th {\n",
       "        vertical-align: top;\n",
       "    }\n",
       "\n",
       "    .dataframe thead th {\n",
       "        text-align: right;\n",
       "    }\n",
       "</style>\n",
       "<table border=\"1\" class=\"dataframe\">\n",
       "  <thead>\n",
       "    <tr style=\"text-align: right;\">\n",
       "      <th></th>\n",
       "      <th>name</th>\n",
       "      <th>shares</th>\n",
       "      <th>price</th>\n",
       "      <th>color</th>\n",
       "      <th>size</th>\n",
       "      <th>age</th>\n",
       "    </tr>\n",
       "  </thead>\n",
       "  <tbody>\n",
       "    <tr>\n",
       "      <th>0</th>\n",
       "      <td>Jim</td>\n",
       "      <td>10</td>\n",
       "      <td>200</td>\n",
       "      <td>blue</td>\n",
       "      <td>big</td>\n",
       "      <td>Nan</td>\n",
       "    </tr>\n",
       "    <tr>\n",
       "      <th>1</th>\n",
       "      <td>Ray</td>\n",
       "      <td>13</td>\n",
       "      <td>131</td>\n",
       "      <td>red</td>\n",
       "      <td>small</td>\n",
       "      <td>Nan</td>\n",
       "    </tr>\n",
       "    <tr>\n",
       "      <th>2</th>\n",
       "      <td>Paul</td>\n",
       "      <td>12</td>\n",
       "      <td>144</td>\n",
       "      <td>pink</td>\n",
       "      <td>large</td>\n",
       "      <td>Nan</td>\n",
       "    </tr>\n",
       "  </tbody>\n",
       "</table>\n",
       "</div>"
      ],
      "text/plain": [
       "   name shares price color   size  age\n",
       "0   Jim     10   200  blue    big  Nan\n",
       "1   Ray     13   131   red  small  Nan\n",
       "2  Paul     12   144  pink  large  Nan"
      ]
     },
     "execution_count": 56,
     "metadata": {},
     "output_type": "execute_result"
    }
   ],
   "source": [
    "df['age'] = 'Nan'\n",
    "df"
   ]
  },
  {
   "cell_type": "code",
   "execution_count": 57,
   "metadata": {},
   "outputs": [
    {
     "data": {
      "text/html": [
       "<div>\n",
       "<style scoped>\n",
       "    .dataframe tbody tr th:only-of-type {\n",
       "        vertical-align: middle;\n",
       "    }\n",
       "\n",
       "    .dataframe tbody tr th {\n",
       "        vertical-align: top;\n",
       "    }\n",
       "\n",
       "    .dataframe thead th {\n",
       "        text-align: right;\n",
       "    }\n",
       "</style>\n",
       "<table border=\"1\" class=\"dataframe\">\n",
       "  <thead>\n",
       "    <tr style=\"text-align: right;\">\n",
       "      <th></th>\n",
       "      <th>name</th>\n",
       "      <th>shares</th>\n",
       "      <th>price</th>\n",
       "      <th>color</th>\n",
       "      <th>size</th>\n",
       "      <th>age</th>\n",
       "    </tr>\n",
       "  </thead>\n",
       "  <tbody>\n",
       "    <tr>\n",
       "      <th>one</th>\n",
       "      <td>Jim</td>\n",
       "      <td>10</td>\n",
       "      <td>200</td>\n",
       "      <td>blue</td>\n",
       "      <td>big</td>\n",
       "      <td>Nan</td>\n",
       "    </tr>\n",
       "    <tr>\n",
       "      <th>two</th>\n",
       "      <td>Ray</td>\n",
       "      <td>13</td>\n",
       "      <td>131</td>\n",
       "      <td>red</td>\n",
       "      <td>small</td>\n",
       "      <td>Nan</td>\n",
       "    </tr>\n",
       "    <tr>\n",
       "      <th>three</th>\n",
       "      <td>Paul</td>\n",
       "      <td>12</td>\n",
       "      <td>144</td>\n",
       "      <td>pink</td>\n",
       "      <td>large</td>\n",
       "      <td>Nan</td>\n",
       "    </tr>\n",
       "  </tbody>\n",
       "</table>\n",
       "</div>"
      ],
      "text/plain": [
       "       name shares price color   size  age\n",
       "one     Jim     10   200  blue    big  Nan\n",
       "two     Ray     13   131   red  small  Nan\n",
       "three  Paul     12   144  pink  large  Nan"
      ]
     },
     "execution_count": 57,
     "metadata": {},
     "output_type": "execute_result"
    }
   ],
   "source": [
    "df.index = ['one','two', 'three'] # Adding index to the DataFrame \n",
    "df"
   ]
  },
  {
   "cell_type": "code",
   "execution_count": 58,
   "metadata": {},
   "outputs": [
    {
     "data": {
      "text/plain": [
       "one      10\n",
       "two      13\n",
       "three    12\n",
       "Name: shares, dtype: object"
      ]
     },
     "execution_count": 58,
     "metadata": {},
     "output_type": "execute_result"
    }
   ],
   "source": [
    "df['shares'] # Extracting a column from the DataFrame"
   ]
  },
  {
   "cell_type": "code",
   "execution_count": 60,
   "metadata": {},
   "outputs": [
    {
     "data": {
      "text/plain": [
       "name       Jim\n",
       "shares      10\n",
       "price      200\n",
       "color     blue\n",
       "size       big\n",
       "age        Nan\n",
       "Name: one, dtype: object"
      ]
     },
     "execution_count": 60,
     "metadata": {},
     "output_type": "execute_result"
    }
   ],
   "source": [
    "df.loc['one'] # select a single row "
   ]
  },
  {
   "cell_type": "code",
   "execution_count": 65,
   "metadata": {},
   "outputs": [
    {
     "data": {
      "text/plain": [
       "one      10\n",
       "two      13\n",
       "three    12\n",
       "Name: shares, dtype: object"
      ]
     },
     "execution_count": 65,
     "metadata": {},
     "output_type": "execute_result"
    }
   ],
   "source": [
    "df.loc[:, 'shares'] # select all the rows in a column "
   ]
  },
  {
   "cell_type": "code",
   "execution_count": 66,
   "metadata": {},
   "outputs": [
    {
     "data": {
      "text/plain": [
       "name       Jim\n",
       "shares      10\n",
       "price      200\n",
       "color     blue\n",
       "size       big\n",
       "age        Nan\n",
       "Name: one, dtype: object"
      ]
     },
     "execution_count": 66,
     "metadata": {},
     "output_type": "execute_result"
    }
   ],
   "source": [
    "df.loc['one',:] # select all the column in a row "
   ]
  },
  {
   "cell_type": "code",
   "execution_count": 67,
   "metadata": {},
   "outputs": [],
   "source": [
    "del df['age'] # deleting a column "
   ]
  },
  {
   "cell_type": "code",
   "execution_count": 68,
   "metadata": {},
   "outputs": [
    {
     "data": {
      "text/html": [
       "<div>\n",
       "<style scoped>\n",
       "    .dataframe tbody tr th:only-of-type {\n",
       "        vertical-align: middle;\n",
       "    }\n",
       "\n",
       "    .dataframe tbody tr th {\n",
       "        vertical-align: top;\n",
       "    }\n",
       "\n",
       "    .dataframe thead th {\n",
       "        text-align: right;\n",
       "    }\n",
       "</style>\n",
       "<table border=\"1\" class=\"dataframe\">\n",
       "  <thead>\n",
       "    <tr style=\"text-align: right;\">\n",
       "      <th></th>\n",
       "      <th>name</th>\n",
       "      <th>shares</th>\n",
       "      <th>price</th>\n",
       "      <th>color</th>\n",
       "      <th>size</th>\n",
       "    </tr>\n",
       "  </thead>\n",
       "  <tbody>\n",
       "    <tr>\n",
       "      <th>one</th>\n",
       "      <td>Jim</td>\n",
       "      <td>10</td>\n",
       "      <td>200</td>\n",
       "      <td>blue</td>\n",
       "      <td>big</td>\n",
       "    </tr>\n",
       "    <tr>\n",
       "      <th>two</th>\n",
       "      <td>Ray</td>\n",
       "      <td>13</td>\n",
       "      <td>131</td>\n",
       "      <td>red</td>\n",
       "      <td>small</td>\n",
       "    </tr>\n",
       "    <tr>\n",
       "      <th>three</th>\n",
       "      <td>Paul</td>\n",
       "      <td>12</td>\n",
       "      <td>144</td>\n",
       "      <td>pink</td>\n",
       "      <td>large</td>\n",
       "    </tr>\n",
       "  </tbody>\n",
       "</table>\n",
       "</div>"
      ],
      "text/plain": [
       "       name shares price color   size\n",
       "one     Jim     10   200  blue    big\n",
       "two     Ray     13   131   red  small\n",
       "three  Paul     12   144  pink  large"
      ]
     },
     "execution_count": 68,
     "metadata": {},
     "output_type": "execute_result"
    }
   ],
   "source": [
    "df"
   ]
  },
  {
   "cell_type": "code",
   "execution_count": 69,
   "metadata": {},
   "outputs": [
    {
     "data": {
      "text/html": [
       "<div>\n",
       "<style scoped>\n",
       "    .dataframe tbody tr th:only-of-type {\n",
       "        vertical-align: middle;\n",
       "    }\n",
       "\n",
       "    .dataframe tbody tr th {\n",
       "        vertical-align: top;\n",
       "    }\n",
       "\n",
       "    .dataframe thead th {\n",
       "        text-align: right;\n",
       "    }\n",
       "</style>\n",
       "<table border=\"1\" class=\"dataframe\">\n",
       "  <thead>\n",
       "    <tr style=\"text-align: right;\">\n",
       "      <th></th>\n",
       "      <th>name</th>\n",
       "      <th>price</th>\n",
       "      <th>color</th>\n",
       "      <th>size</th>\n",
       "    </tr>\n",
       "  </thead>\n",
       "  <tbody>\n",
       "    <tr>\n",
       "      <th>one</th>\n",
       "      <td>Jim</td>\n",
       "      <td>200</td>\n",
       "      <td>blue</td>\n",
       "      <td>big</td>\n",
       "    </tr>\n",
       "    <tr>\n",
       "      <th>two</th>\n",
       "      <td>Ray</td>\n",
       "      <td>131</td>\n",
       "      <td>red</td>\n",
       "      <td>small</td>\n",
       "    </tr>\n",
       "    <tr>\n",
       "      <th>three</th>\n",
       "      <td>Paul</td>\n",
       "      <td>144</td>\n",
       "      <td>pink</td>\n",
       "      <td>large</td>\n",
       "    </tr>\n",
       "  </tbody>\n",
       "</table>\n",
       "</div>"
      ],
      "text/plain": [
       "       name price color   size\n",
       "one     Jim   200  blue    big\n",
       "two     Ray   131   red  small\n",
       "three  Paul   144  pink  large"
      ]
     },
     "execution_count": 69,
     "metadata": {},
     "output_type": "execute_result"
    }
   ],
   "source": [
    "df.drop('shares', axis = 1) # deleting column "
   ]
  },
  {
   "cell_type": "code",
   "execution_count": 70,
   "metadata": {},
   "outputs": [
    {
     "data": {
      "text/html": [
       "<div>\n",
       "<style scoped>\n",
       "    .dataframe tbody tr th:only-of-type {\n",
       "        vertical-align: middle;\n",
       "    }\n",
       "\n",
       "    .dataframe tbody tr th {\n",
       "        vertical-align: top;\n",
       "    }\n",
       "\n",
       "    .dataframe thead th {\n",
       "        text-align: right;\n",
       "    }\n",
       "</style>\n",
       "<table border=\"1\" class=\"dataframe\">\n",
       "  <thead>\n",
       "    <tr style=\"text-align: right;\">\n",
       "      <th></th>\n",
       "      <th>name</th>\n",
       "      <th>shares</th>\n",
       "      <th>price</th>\n",
       "      <th>color</th>\n",
       "      <th>size</th>\n",
       "    </tr>\n",
       "  </thead>\n",
       "  <tbody>\n",
       "    <tr>\n",
       "      <th>one</th>\n",
       "      <td>Jim</td>\n",
       "      <td>10</td>\n",
       "      <td>200</td>\n",
       "      <td>blue</td>\n",
       "      <td>big</td>\n",
       "    </tr>\n",
       "    <tr>\n",
       "      <th>three</th>\n",
       "      <td>Paul</td>\n",
       "      <td>12</td>\n",
       "      <td>144</td>\n",
       "      <td>pink</td>\n",
       "      <td>large</td>\n",
       "    </tr>\n",
       "  </tbody>\n",
       "</table>\n",
       "</div>"
      ],
      "text/plain": [
       "       name shares price color   size\n",
       "one     Jim     10   200  blue    big\n",
       "three  Paul     12   144  pink  large"
      ]
     },
     "execution_count": 70,
     "metadata": {},
     "output_type": "execute_result"
    }
   ],
   "source": [
    "df.drop('two', axis=0) # deleting frow "
   ]
  },
  {
   "cell_type": "code",
   "execution_count": 72,
   "metadata": {},
   "outputs": [
    {
     "data": {
      "text/html": [
       "<div>\n",
       "<style scoped>\n",
       "    .dataframe tbody tr th:only-of-type {\n",
       "        vertical-align: middle;\n",
       "    }\n",
       "\n",
       "    .dataframe tbody tr th {\n",
       "        vertical-align: top;\n",
       "    }\n",
       "\n",
       "    .dataframe thead th {\n",
       "        text-align: right;\n",
       "    }\n",
       "</style>\n",
       "<table border=\"1\" class=\"dataframe\">\n",
       "  <thead>\n",
       "    <tr style=\"text-align: right;\">\n",
       "      <th></th>\n",
       "      <th>title</th>\n",
       "      <th>year</th>\n",
       "      <th>name</th>\n",
       "      <th>type</th>\n",
       "      <th>character</th>\n",
       "      <th>n</th>\n",
       "    </tr>\n",
       "  </thead>\n",
       "  <tbody>\n",
       "    <tr>\n",
       "      <th>0</th>\n",
       "      <td>Closet Monster</td>\n",
       "      <td>2015</td>\n",
       "      <td>Buffy #1</td>\n",
       "      <td>actor</td>\n",
       "      <td>Buffy 4</td>\n",
       "      <td>31.0</td>\n",
       "    </tr>\n",
       "    <tr>\n",
       "      <th>1</th>\n",
       "      <td>Suuri illusioni</td>\n",
       "      <td>1985</td>\n",
       "      <td>Homo $</td>\n",
       "      <td>actor</td>\n",
       "      <td>Guests</td>\n",
       "      <td>22.0</td>\n",
       "    </tr>\n",
       "    <tr>\n",
       "      <th>2</th>\n",
       "      <td>Battle of the Sexes</td>\n",
       "      <td>2017</td>\n",
       "      <td>$hutter</td>\n",
       "      <td>actor</td>\n",
       "      <td>Bobby Riggs Fan</td>\n",
       "      <td>10.0</td>\n",
       "    </tr>\n",
       "  </tbody>\n",
       "</table>\n",
       "</div>"
      ],
      "text/plain": [
       "                 title  year      name   type        character     n\n",
       "0       Closet Monster  2015  Buffy #1  actor          Buffy 4  31.0\n",
       "1      Suuri illusioni  1985    Homo $  actor           Guests  22.0\n",
       "2  Battle of the Sexes  2017   $hutter  actor  Bobby Riggs Fan  10.0"
      ]
     },
     "execution_count": 72,
     "metadata": {},
     "output_type": "execute_result"
    }
   ],
   "source": [
    "# Reading files \n",
    "\n",
    "casts = pd.read_csv('cast.csv', index_col=None) # Reading the cast.csv file\n",
    "casts.head(3) # Getting the first five elements of the DataFrame"
   ]
  },
  {
   "cell_type": "code",
   "execution_count": 73,
   "metadata": {},
   "outputs": [
    {
     "data": {
      "text/html": [
       "<div>\n",
       "<style scoped>\n",
       "    .dataframe tbody tr th:only-of-type {\n",
       "        vertical-align: middle;\n",
       "    }\n",
       "\n",
       "    .dataframe tbody tr th {\n",
       "        vertical-align: top;\n",
       "    }\n",
       "\n",
       "    .dataframe thead th {\n",
       "        text-align: right;\n",
       "    }\n",
       "</style>\n",
       "<table border=\"1\" class=\"dataframe\">\n",
       "  <thead>\n",
       "    <tr style=\"text-align: right;\">\n",
       "      <th></th>\n",
       "      <th>title</th>\n",
       "      <th>year</th>\n",
       "    </tr>\n",
       "  </thead>\n",
       "  <tbody>\n",
       "    <tr>\n",
       "      <th>49995</th>\n",
       "      <td>Rebel</td>\n",
       "      <td>1970</td>\n",
       "    </tr>\n",
       "    <tr>\n",
       "      <th>49996</th>\n",
       "      <td>Suzanne</td>\n",
       "      <td>1996</td>\n",
       "    </tr>\n",
       "    <tr>\n",
       "      <th>49997</th>\n",
       "      <td>Bomba</td>\n",
       "      <td>2013</td>\n",
       "    </tr>\n",
       "    <tr>\n",
       "      <th>49998</th>\n",
       "      <td>Aao Jao Ghar Tumhara</td>\n",
       "      <td>1984</td>\n",
       "    </tr>\n",
       "    <tr>\n",
       "      <th>49999</th>\n",
       "      <td>Mrs. Munck</td>\n",
       "      <td>1995</td>\n",
       "    </tr>\n",
       "  </tbody>\n",
       "</table>\n",
       "</div>"
      ],
      "text/plain": [
       "                      title  year\n",
       "49995                 Rebel  1970\n",
       "49996               Suzanne  1996\n",
       "49997                 Bomba  2013\n",
       "49998  Aao Jao Ghar Tumhara  1984\n",
       "49999            Mrs. Munck  1995"
      ]
     },
     "execution_count": 73,
     "metadata": {},
     "output_type": "execute_result"
    }
   ],
   "source": [
    "titles = pd.read_csv('titles.csv', index_col=None) # if err -> encoding= 'utf-8'\n",
    "titles.tail() #getting the last five elements of the DataFrame"
   ]
  },
  {
   "cell_type": "code",
   "execution_count": 74,
   "metadata": {},
   "outputs": [
    {
     "data": {
      "text/plain": [
       "50000"
      ]
     },
     "execution_count": 74,
     "metadata": {},
     "output_type": "execute_result"
    }
   ],
   "source": [
    "len(titles)"
   ]
  },
  {
   "cell_type": "markdown",
   "metadata": {},
   "source": [
    "Data Operations "
   ]
  },
  {
   "cell_type": "code",
   "execution_count": 75,
   "metadata": {},
   "outputs": [
    {
     "data": {
      "text/plain": [
       "pandas.core.series.Series"
      ]
     },
     "execution_count": 75,
     "metadata": {},
     "output_type": "execute_result"
    }
   ],
   "source": [
    "# Data Operations \n",
    "\n",
    "t = titles['title'] # row and column selection \n",
    "type(t)"
   ]
  },
  {
   "cell_type": "code",
   "execution_count": 76,
   "metadata": {},
   "outputs": [
    {
     "data": {
      "text/plain": [
       "0             The Rising Son\n",
       "1    The Thousand Plane Raid\n",
       "2           Crucea de piatra\n",
       "3                    Country\n",
       "4                 Gaiking II\n",
       "Name: title, dtype: object"
      ]
     },
     "execution_count": 76,
     "metadata": {},
     "output_type": "execute_result"
    }
   ],
   "source": [
    "t.head()"
   ]
  },
  {
   "cell_type": "code",
   "execution_count": 77,
   "metadata": {},
   "outputs": [
    {
     "data": {
      "text/html": [
       "<div>\n",
       "<style scoped>\n",
       "    .dataframe tbody tr th:only-of-type {\n",
       "        vertical-align: middle;\n",
       "    }\n",
       "\n",
       "    .dataframe tbody tr th {\n",
       "        vertical-align: top;\n",
       "    }\n",
       "\n",
       "    .dataframe thead th {\n",
       "        text-align: right;\n",
       "    }\n",
       "</style>\n",
       "<table border=\"1\" class=\"dataframe\">\n",
       "  <thead>\n",
       "    <tr style=\"text-align: right;\">\n",
       "      <th></th>\n",
       "      <th>title</th>\n",
       "      <th>year</th>\n",
       "    </tr>\n",
       "  </thead>\n",
       "  <tbody>\n",
       "    <tr>\n",
       "      <th>0</th>\n",
       "      <td>The Rising Son</td>\n",
       "      <td>1990</td>\n",
       "    </tr>\n",
       "    <tr>\n",
       "      <th>2</th>\n",
       "      <td>Crucea de piatra</td>\n",
       "      <td>1993</td>\n",
       "    </tr>\n",
       "    <tr>\n",
       "      <th>3</th>\n",
       "      <td>Country</td>\n",
       "      <td>2000</td>\n",
       "    </tr>\n",
       "    <tr>\n",
       "      <th>4</th>\n",
       "      <td>Gaiking II</td>\n",
       "      <td>2011</td>\n",
       "    </tr>\n",
       "    <tr>\n",
       "      <th>5</th>\n",
       "      <td>Medusa (IV)</td>\n",
       "      <td>2015</td>\n",
       "    </tr>\n",
       "  </tbody>\n",
       "</table>\n",
       "</div>"
      ],
      "text/plain": [
       "              title  year\n",
       "0    The Rising Son  1990\n",
       "2  Crucea de piatra  1993\n",
       "3           Country  2000\n",
       "4        Gaiking II  2011\n",
       "5       Medusa (IV)  2015"
      ]
     },
     "execution_count": 77,
     "metadata": {},
     "output_type": "execute_result"
    }
   ],
   "source": [
    "# filtering data\n",
    "\n",
    "after85 = titles[titles['year'] > 1985] # movies after 1985\n",
    "after85.head()"
   ]
  },
  {
   "cell_type": "code",
   "execution_count": 78,
   "metadata": {},
   "outputs": [
    {
     "data": {
      "text/html": [
       "<div>\n",
       "<style scoped>\n",
       "    .dataframe tbody tr th:only-of-type {\n",
       "        vertical-align: middle;\n",
       "    }\n",
       "\n",
       "    .dataframe tbody tr th {\n",
       "        vertical-align: top;\n",
       "    }\n",
       "\n",
       "    .dataframe thead th {\n",
       "        text-align: right;\n",
       "    }\n",
       "</style>\n",
       "<table border=\"1\" class=\"dataframe\">\n",
       "  <thead>\n",
       "    <tr style=\"text-align: right;\">\n",
       "      <th></th>\n",
       "      <th>title</th>\n",
       "      <th>year</th>\n",
       "    </tr>\n",
       "  </thead>\n",
       "  <tbody>\n",
       "    <tr>\n",
       "      <th>49990</th>\n",
       "      <td>Junebug</td>\n",
       "      <td>2005</td>\n",
       "    </tr>\n",
       "    <tr>\n",
       "      <th>49993</th>\n",
       "      <td>Corruption.Gov</td>\n",
       "      <td>2010</td>\n",
       "    </tr>\n",
       "    <tr>\n",
       "      <th>49996</th>\n",
       "      <td>Suzanne</td>\n",
       "      <td>1996</td>\n",
       "    </tr>\n",
       "    <tr>\n",
       "      <th>49997</th>\n",
       "      <td>Bomba</td>\n",
       "      <td>2013</td>\n",
       "    </tr>\n",
       "    <tr>\n",
       "      <th>49999</th>\n",
       "      <td>Mrs. Munck</td>\n",
       "      <td>1995</td>\n",
       "    </tr>\n",
       "  </tbody>\n",
       "</table>\n",
       "</div>"
      ],
      "text/plain": [
       "                title  year\n",
       "49990         Junebug  2005\n",
       "49993  Corruption.Gov  2010\n",
       "49996         Suzanne  1996\n",
       "49997           Bomba  2013\n",
       "49999      Mrs. Munck  1995"
      ]
     },
     "execution_count": 78,
     "metadata": {},
     "output_type": "execute_result"
    }
   ],
   "source": [
    "after85.tail()"
   ]
  },
  {
   "cell_type": "code",
   "execution_count": 79,
   "metadata": {},
   "outputs": [
    {
     "data": {
      "text/html": [
       "<div>\n",
       "<style scoped>\n",
       "    .dataframe tbody tr th:only-of-type {\n",
       "        vertical-align: middle;\n",
       "    }\n",
       "\n",
       "    .dataframe tbody tr th {\n",
       "        vertical-align: top;\n",
       "    }\n",
       "\n",
       "    .dataframe thead th {\n",
       "        text-align: right;\n",
       "    }\n",
       "</style>\n",
       "<table border=\"1\" class=\"dataframe\">\n",
       "  <thead>\n",
       "    <tr style=\"text-align: right;\">\n",
       "      <th></th>\n",
       "      <th>title</th>\n",
       "      <th>year</th>\n",
       "    </tr>\n",
       "  </thead>\n",
       "  <tbody>\n",
       "    <tr>\n",
       "      <th>0</th>\n",
       "      <td>The Rising Son</td>\n",
       "      <td>1990</td>\n",
       "    </tr>\n",
       "    <tr>\n",
       "      <th>2</th>\n",
       "      <td>Crucea de piatra</td>\n",
       "      <td>1993</td>\n",
       "    </tr>\n",
       "    <tr>\n",
       "      <th>12</th>\n",
       "      <td>Poka Makorer Ghar Bosoti</td>\n",
       "      <td>1996</td>\n",
       "    </tr>\n",
       "    <tr>\n",
       "      <th>19</th>\n",
       "      <td>Maa Durga Shakti</td>\n",
       "      <td>1999</td>\n",
       "    </tr>\n",
       "    <tr>\n",
       "      <th>24</th>\n",
       "      <td>Conflict of Interest</td>\n",
       "      <td>1993</td>\n",
       "    </tr>\n",
       "    <tr>\n",
       "      <th>...</th>\n",
       "      <td>...</td>\n",
       "      <td>...</td>\n",
       "    </tr>\n",
       "    <tr>\n",
       "      <th>49969</th>\n",
       "      <td>Chi mei wang liang</td>\n",
       "      <td>1998</td>\n",
       "    </tr>\n",
       "    <tr>\n",
       "      <th>49979</th>\n",
       "      <td>Gagay: Prinsesa ng brownout</td>\n",
       "      <td>1993</td>\n",
       "    </tr>\n",
       "    <tr>\n",
       "      <th>49987</th>\n",
       "      <td>I Won't Dance</td>\n",
       "      <td>1992</td>\n",
       "    </tr>\n",
       "    <tr>\n",
       "      <th>49996</th>\n",
       "      <td>Suzanne</td>\n",
       "      <td>1996</td>\n",
       "    </tr>\n",
       "    <tr>\n",
       "      <th>49999</th>\n",
       "      <td>Mrs. Munck</td>\n",
       "      <td>1995</td>\n",
       "    </tr>\n",
       "  </tbody>\n",
       "</table>\n",
       "<p>4803 rows × 2 columns</p>\n",
       "</div>"
      ],
      "text/plain": [
       "                             title  year\n",
       "0                   The Rising Son  1990\n",
       "2                 Crucea de piatra  1993\n",
       "12        Poka Makorer Ghar Bosoti  1996\n",
       "19                Maa Durga Shakti  1999\n",
       "24            Conflict of Interest  1993\n",
       "...                            ...   ...\n",
       "49969           Chi mei wang liang  1998\n",
       "49979  Gagay: Prinsesa ng brownout  1993\n",
       "49987                I Won't Dance  1992\n",
       "49996                      Suzanne  1996\n",
       "49999                   Mrs. Munck  1995\n",
       "\n",
       "[4803 rows x 2 columns]"
      ]
     },
     "execution_count": 79,
     "metadata": {},
     "output_type": "execute_result"
    }
   ],
   "source": [
    "t = titles\n",
    "movies90 = t[(t['year'] >= 1990) & (t['year'] < 2000)] # display movies in the year 1990 - 1999\n",
    "movies90 "
   ]
  },
  {
   "cell_type": "code",
   "execution_count": 84,
   "metadata": {},
   "outputs": [
    {
     "data": {
      "text/html": [
       "<div>\n",
       "<style scoped>\n",
       "    .dataframe tbody tr th:only-of-type {\n",
       "        vertical-align: middle;\n",
       "    }\n",
       "\n",
       "    .dataframe tbody tr th {\n",
       "        vertical-align: top;\n",
       "    }\n",
       "\n",
       "    .dataframe thead th {\n",
       "        text-align: right;\n",
       "    }\n",
       "</style>\n",
       "<table border=\"1\" class=\"dataframe\">\n",
       "  <thead>\n",
       "    <tr style=\"text-align: right;\">\n",
       "      <th></th>\n",
       "      <th>title</th>\n",
       "      <th>year</th>\n",
       "    </tr>\n",
       "  </thead>\n",
       "  <tbody>\n",
       "    <tr>\n",
       "      <th>4226</th>\n",
       "      <td>Macbeth</td>\n",
       "      <td>1913</td>\n",
       "    </tr>\n",
       "    <tr>\n",
       "      <th>9322</th>\n",
       "      <td>Macbeth</td>\n",
       "      <td>2006</td>\n",
       "    </tr>\n",
       "    <tr>\n",
       "      <th>11722</th>\n",
       "      <td>Macbeth</td>\n",
       "      <td>2013</td>\n",
       "    </tr>\n",
       "    <tr>\n",
       "      <th>17166</th>\n",
       "      <td>Macbeth</td>\n",
       "      <td>1997</td>\n",
       "    </tr>\n",
       "    <tr>\n",
       "      <th>25847</th>\n",
       "      <td>Macbeth</td>\n",
       "      <td>1998</td>\n",
       "    </tr>\n",
       "  </tbody>\n",
       "</table>\n",
       "</div>"
      ],
      "text/plain": [
       "         title  year\n",
       "4226   Macbeth  1913\n",
       "9322   Macbeth  2006\n",
       "11722  Macbeth  2013\n",
       "17166  Macbeth  1997\n",
       "25847  Macbeth  1998"
      ]
     },
     "execution_count": 84,
     "metadata": {},
     "output_type": "execute_result"
    }
   ],
   "source": [
    "# sorting\n",
    "\n",
    "macbeth = t[t['title'] == 'Macbeth'] # find all movies named as Macbeth\n",
    "macbeth.head()\n",
    "# len(macbeth)"
   ]
  },
  {
   "cell_type": "code",
   "execution_count": 85,
   "metadata": {},
   "outputs": [
    {
     "data": {
      "text/html": [
       "<div>\n",
       "<style scoped>\n",
       "    .dataframe tbody tr th:only-of-type {\n",
       "        vertical-align: middle;\n",
       "    }\n",
       "\n",
       "    .dataframe tbody tr th {\n",
       "        vertical-align: top;\n",
       "    }\n",
       "\n",
       "    .dataframe thead th {\n",
       "        text-align: right;\n",
       "    }\n",
       "</style>\n",
       "<table border=\"1\" class=\"dataframe\">\n",
       "  <thead>\n",
       "    <tr style=\"text-align: right;\">\n",
       "      <th></th>\n",
       "      <th>title</th>\n",
       "      <th>year</th>\n",
       "    </tr>\n",
       "  </thead>\n",
       "  <tbody>\n",
       "    <tr>\n",
       "      <th>4226</th>\n",
       "      <td>Macbeth</td>\n",
       "      <td>1913</td>\n",
       "    </tr>\n",
       "    <tr>\n",
       "      <th>9322</th>\n",
       "      <td>Macbeth</td>\n",
       "      <td>2006</td>\n",
       "    </tr>\n",
       "    <tr>\n",
       "      <th>11722</th>\n",
       "      <td>Macbeth</td>\n",
       "      <td>2013</td>\n",
       "    </tr>\n",
       "    <tr>\n",
       "      <th>17166</th>\n",
       "      <td>Macbeth</td>\n",
       "      <td>1997</td>\n",
       "    </tr>\n",
       "    <tr>\n",
       "      <th>25847</th>\n",
       "      <td>Macbeth</td>\n",
       "      <td>1998</td>\n",
       "    </tr>\n",
       "  </tbody>\n",
       "</table>\n",
       "</div>"
      ],
      "text/plain": [
       "         title  year\n",
       "4226   Macbeth  1913\n",
       "9322   Macbeth  2006\n",
       "11722  Macbeth  2013\n",
       "17166  Macbeth  1997\n",
       "25847  Macbeth  1998"
      ]
     },
     "execution_count": 85,
     "metadata": {},
     "output_type": "execute_result"
    }
   ],
   "source": [
    "macbeth.sort_index() # default is sorted by index "
   ]
  },
  {
   "cell_type": "code",
   "execution_count": 86,
   "metadata": {},
   "outputs": [
    {
     "data": {
      "text/html": [
       "<div>\n",
       "<style scoped>\n",
       "    .dataframe tbody tr th:only-of-type {\n",
       "        vertical-align: middle;\n",
       "    }\n",
       "\n",
       "    .dataframe tbody tr th {\n",
       "        vertical-align: top;\n",
       "    }\n",
       "\n",
       "    .dataframe thead th {\n",
       "        text-align: right;\n",
       "    }\n",
       "</style>\n",
       "<table border=\"1\" class=\"dataframe\">\n",
       "  <thead>\n",
       "    <tr style=\"text-align: right;\">\n",
       "      <th></th>\n",
       "      <th>title</th>\n",
       "      <th>year</th>\n",
       "    </tr>\n",
       "  </thead>\n",
       "  <tbody>\n",
       "    <tr>\n",
       "      <th>4226</th>\n",
       "      <td>Macbeth</td>\n",
       "      <td>1913</td>\n",
       "    </tr>\n",
       "    <tr>\n",
       "      <th>17166</th>\n",
       "      <td>Macbeth</td>\n",
       "      <td>1997</td>\n",
       "    </tr>\n",
       "    <tr>\n",
       "      <th>25847</th>\n",
       "      <td>Macbeth</td>\n",
       "      <td>1998</td>\n",
       "    </tr>\n",
       "    <tr>\n",
       "      <th>9322</th>\n",
       "      <td>Macbeth</td>\n",
       "      <td>2006</td>\n",
       "    </tr>\n",
       "    <tr>\n",
       "      <th>11722</th>\n",
       "      <td>Macbeth</td>\n",
       "      <td>2013</td>\n",
       "    </tr>\n",
       "  </tbody>\n",
       "</table>\n",
       "</div>"
      ],
      "text/plain": [
       "         title  year\n",
       "4226   Macbeth  1913\n",
       "17166  Macbeth  1997\n",
       "25847  Macbeth  1998\n",
       "9322   Macbeth  2006\n",
       "11722  Macbeth  2013"
      ]
     },
     "execution_count": 86,
     "metadata": {},
     "output_type": "execute_result"
    }
   ],
   "source": [
    "macbeth.sort_values('year') # sorting by year"
   ]
  },
  {
   "cell_type": "code",
   "execution_count": 87,
   "metadata": {},
   "outputs": [
    {
     "data": {
      "text/html": [
       "<div>\n",
       "<style scoped>\n",
       "    .dataframe tbody tr th:only-of-type {\n",
       "        vertical-align: middle;\n",
       "    }\n",
       "\n",
       "    .dataframe tbody tr th {\n",
       "        vertical-align: top;\n",
       "    }\n",
       "\n",
       "    .dataframe thead th {\n",
       "        text-align: right;\n",
       "    }\n",
       "</style>\n",
       "<table border=\"1\" class=\"dataframe\">\n",
       "  <thead>\n",
       "    <tr style=\"text-align: right;\">\n",
       "      <th></th>\n",
       "      <th>title</th>\n",
       "      <th>year</th>\n",
       "      <th>name</th>\n",
       "      <th>type</th>\n",
       "      <th>character</th>\n",
       "      <th>n</th>\n",
       "    </tr>\n",
       "  </thead>\n",
       "  <tbody>\n",
       "    <tr>\n",
       "      <th>0</th>\n",
       "      <td>Closet Monster</td>\n",
       "      <td>2015</td>\n",
       "      <td>Buffy #1</td>\n",
       "      <td>actor</td>\n",
       "      <td>Buffy 4</td>\n",
       "      <td>31.0</td>\n",
       "    </tr>\n",
       "    <tr>\n",
       "      <th>1</th>\n",
       "      <td>Suuri illusioni</td>\n",
       "      <td>1985</td>\n",
       "      <td>Homo $</td>\n",
       "      <td>actor</td>\n",
       "      <td>Guests</td>\n",
       "      <td>22.0</td>\n",
       "    </tr>\n",
       "    <tr>\n",
       "      <th>2</th>\n",
       "      <td>Battle of the Sexes</td>\n",
       "      <td>2017</td>\n",
       "      <td>$hutter</td>\n",
       "      <td>actor</td>\n",
       "      <td>Bobby Riggs Fan</td>\n",
       "      <td>10.0</td>\n",
       "    </tr>\n",
       "    <tr>\n",
       "      <th>3</th>\n",
       "      <td>Secret in Their Eyes</td>\n",
       "      <td>2015</td>\n",
       "      <td>$hutter</td>\n",
       "      <td>actor</td>\n",
       "      <td>2002 Dodger Fan</td>\n",
       "      <td>NaN</td>\n",
       "    </tr>\n",
       "    <tr>\n",
       "      <th>4</th>\n",
       "      <td>Steve Jobs</td>\n",
       "      <td>2015</td>\n",
       "      <td>$hutter</td>\n",
       "      <td>actor</td>\n",
       "      <td>1988 Opera House Patron</td>\n",
       "      <td>NaN</td>\n",
       "    </tr>\n",
       "    <tr>\n",
       "      <th>...</th>\n",
       "      <td>...</td>\n",
       "      <td>...</td>\n",
       "      <td>...</td>\n",
       "      <td>...</td>\n",
       "      <td>...</td>\n",
       "      <td>...</td>\n",
       "    </tr>\n",
       "    <tr>\n",
       "      <th>74996</th>\n",
       "      <td>Mia fora kai ena... moro</td>\n",
       "      <td>2011</td>\n",
       "      <td>Penelope Anastasopoulou</td>\n",
       "      <td>actress</td>\n",
       "      <td>Popi voulkanizater</td>\n",
       "      <td>11.0</td>\n",
       "    </tr>\n",
       "    <tr>\n",
       "      <th>74997</th>\n",
       "      <td>The Magician King</td>\n",
       "      <td>2004</td>\n",
       "      <td>Tiannah Anastassiades</td>\n",
       "      <td>actress</td>\n",
       "      <td>Unicycle Race Attendant</td>\n",
       "      <td>NaN</td>\n",
       "    </tr>\n",
       "    <tr>\n",
       "      <th>74998</th>\n",
       "      <td>Festival of Lights</td>\n",
       "      <td>2010</td>\n",
       "      <td>Zoe Anastassiou</td>\n",
       "      <td>actress</td>\n",
       "      <td>Guidance Counselor</td>\n",
       "      <td>20.0</td>\n",
       "    </tr>\n",
       "    <tr>\n",
       "      <th>74999</th>\n",
       "      <td>Toxic Tutu</td>\n",
       "      <td>2016</td>\n",
       "      <td>Zoe Anastassiou</td>\n",
       "      <td>actress</td>\n",
       "      <td>Demon of Toxicity</td>\n",
       "      <td>NaN</td>\n",
       "    </tr>\n",
       "    <tr>\n",
       "      <th>75000</th>\n",
       "      <td>Fugitive Pieces</td>\n",
       "      <td>2007</td>\n",
       "      <td>Anastassia Anastassopoulou</td>\n",
       "      <td>actress</td>\n",
       "      <td>Laundry Girl</td>\n",
       "      <td>25.0</td>\n",
       "    </tr>\n",
       "  </tbody>\n",
       "</table>\n",
       "<p>75001 rows × 6 columns</p>\n",
       "</div>"
      ],
      "text/plain": [
       "                          title  year                        name     type  \\\n",
       "0                Closet Monster  2015                    Buffy #1    actor   \n",
       "1               Suuri illusioni  1985                      Homo $    actor   \n",
       "2           Battle of the Sexes  2017                     $hutter    actor   \n",
       "3          Secret in Their Eyes  2015                     $hutter    actor   \n",
       "4                    Steve Jobs  2015                     $hutter    actor   \n",
       "...                         ...   ...                         ...      ...   \n",
       "74996  Mia fora kai ena... moro  2011     Penelope Anastasopoulou  actress   \n",
       "74997         The Magician King  2004       Tiannah Anastassiades  actress   \n",
       "74998        Festival of Lights  2010             Zoe Anastassiou  actress   \n",
       "74999                Toxic Tutu  2016             Zoe Anastassiou  actress   \n",
       "75000           Fugitive Pieces  2007  Anastassia Anastassopoulou  actress   \n",
       "\n",
       "                     character     n  \n",
       "0                      Buffy 4  31.0  \n",
       "1                       Guests  22.0  \n",
       "2              Bobby Riggs Fan  10.0  \n",
       "3              2002 Dodger Fan   NaN  \n",
       "4      1988 Opera House Patron   NaN  \n",
       "...                        ...   ...  \n",
       "74996       Popi voulkanizater  11.0  \n",
       "74997  Unicycle Race Attendant   NaN  \n",
       "74998       Guidance Counselor  20.0  \n",
       "74999        Demon of Toxicity   NaN  \n",
       "75000             Laundry Girl  25.0  \n",
       "\n",
       "[75001 rows x 6 columns]"
      ]
     },
     "execution_count": 87,
     "metadata": {},
     "output_type": "execute_result"
    }
   ],
   "source": [
    "casts "
   ]
  },
  {
   "cell_type": "code",
   "execution_count": 91,
   "metadata": {},
   "outputs": [
    {
     "data": {
      "text/plain": [
       "0    False\n",
       "1    False\n",
       "2    False\n",
       "3     True\n",
       "4     True\n",
       "Name: n, dtype: bool"
      ]
     },
     "execution_count": 91,
     "metadata": {},
     "output_type": "execute_result"
    }
   ],
   "source": [
    "c = casts\n",
    "c['n'].isnull().head()"
   ]
  },
  {
   "cell_type": "code",
   "execution_count": 95,
   "metadata": {},
   "outputs": [
    {
     "data": {
      "text/html": [
       "<div>\n",
       "<style scoped>\n",
       "    .dataframe tbody tr th:only-of-type {\n",
       "        vertical-align: middle;\n",
       "    }\n",
       "\n",
       "    .dataframe tbody tr th {\n",
       "        vertical-align: top;\n",
       "    }\n",
       "\n",
       "    .dataframe thead th {\n",
       "        text-align: right;\n",
       "    }\n",
       "</style>\n",
       "<table border=\"1\" class=\"dataframe\">\n",
       "  <thead>\n",
       "    <tr style=\"text-align: right;\">\n",
       "      <th></th>\n",
       "      <th>title</th>\n",
       "      <th>year</th>\n",
       "      <th>name</th>\n",
       "      <th>type</th>\n",
       "      <th>character</th>\n",
       "      <th>n</th>\n",
       "    </tr>\n",
       "  </thead>\n",
       "  <tbody>\n",
       "    <tr>\n",
       "      <th>3</th>\n",
       "      <td>Secret in Their Eyes</td>\n",
       "      <td>2015</td>\n",
       "      <td>$hutter</td>\n",
       "      <td>actor</td>\n",
       "      <td>2002 Dodger Fan</td>\n",
       "      <td>NaN</td>\n",
       "    </tr>\n",
       "    <tr>\n",
       "      <th>4</th>\n",
       "      <td>Steve Jobs</td>\n",
       "      <td>2015</td>\n",
       "      <td>$hutter</td>\n",
       "      <td>actor</td>\n",
       "      <td>1988 Opera House Patron</td>\n",
       "      <td>NaN</td>\n",
       "    </tr>\n",
       "    <tr>\n",
       "      <th>5</th>\n",
       "      <td>Straight Outta Compton</td>\n",
       "      <td>2015</td>\n",
       "      <td>$hutter</td>\n",
       "      <td>actor</td>\n",
       "      <td>Club Patron</td>\n",
       "      <td>NaN</td>\n",
       "    </tr>\n",
       "    <tr>\n",
       "      <th>6</th>\n",
       "      <td>Straight Outta Compton</td>\n",
       "      <td>2015</td>\n",
       "      <td>$hutter</td>\n",
       "      <td>actor</td>\n",
       "      <td>Dopeman</td>\n",
       "      <td>NaN</td>\n",
       "    </tr>\n",
       "    <tr>\n",
       "      <th>7</th>\n",
       "      <td>For Thy Love 2</td>\n",
       "      <td>2009</td>\n",
       "      <td>Bee Moe $lim</td>\n",
       "      <td>actor</td>\n",
       "      <td>Thug 1</td>\n",
       "      <td>NaN</td>\n",
       "    </tr>\n",
       "  </tbody>\n",
       "</table>\n",
       "</div>"
      ],
      "text/plain": [
       "                    title  year          name   type                character  \\\n",
       "3    Secret in Their Eyes  2015       $hutter  actor          2002 Dodger Fan   \n",
       "4              Steve Jobs  2015       $hutter  actor  1988 Opera House Patron   \n",
       "5  Straight Outta Compton  2015       $hutter  actor              Club Patron   \n",
       "6  Straight Outta Compton  2015       $hutter  actor                  Dopeman   \n",
       "7          For Thy Love 2  2009  Bee Moe $lim  actor                   Thug 1   \n",
       "\n",
       "    n  \n",
       "3 NaN  \n",
       "4 NaN  \n",
       "5 NaN  \n",
       "6 NaN  \n",
       "7 NaN  "
      ]
     },
     "execution_count": 95,
     "metadata": {},
     "output_type": "execute_result"
    }
   ],
   "source": [
    "c[c['n'].isnull()].head()"
   ]
  },
  {
   "cell_type": "code",
   "execution_count": 96,
   "metadata": {},
   "outputs": [
    {
     "data": {
      "text/html": [
       "<div>\n",
       "<style scoped>\n",
       "    .dataframe tbody tr th:only-of-type {\n",
       "        vertical-align: middle;\n",
       "    }\n",
       "\n",
       "    .dataframe tbody tr th {\n",
       "        vertical-align: top;\n",
       "    }\n",
       "\n",
       "    .dataframe thead th {\n",
       "        text-align: right;\n",
       "    }\n",
       "</style>\n",
       "<table border=\"1\" class=\"dataframe\">\n",
       "  <thead>\n",
       "    <tr style=\"text-align: right;\">\n",
       "      <th></th>\n",
       "      <th>title</th>\n",
       "      <th>year</th>\n",
       "      <th>name</th>\n",
       "      <th>type</th>\n",
       "      <th>character</th>\n",
       "      <th>n</th>\n",
       "    </tr>\n",
       "  </thead>\n",
       "  <tbody>\n",
       "    <tr>\n",
       "      <th>3</th>\n",
       "      <td>Secret in Their Eyes</td>\n",
       "      <td>2015</td>\n",
       "      <td>$hutter</td>\n",
       "      <td>actor</td>\n",
       "      <td>2002 Dodger Fan</td>\n",
       "      <td>NA</td>\n",
       "    </tr>\n",
       "    <tr>\n",
       "      <th>4</th>\n",
       "      <td>Steve Jobs</td>\n",
       "      <td>2015</td>\n",
       "      <td>$hutter</td>\n",
       "      <td>actor</td>\n",
       "      <td>1988 Opera House Patron</td>\n",
       "      <td>NA</td>\n",
       "    </tr>\n",
       "    <tr>\n",
       "      <th>5</th>\n",
       "      <td>Straight Outta Compton</td>\n",
       "      <td>2015</td>\n",
       "      <td>$hutter</td>\n",
       "      <td>actor</td>\n",
       "      <td>Club Patron</td>\n",
       "      <td>NA</td>\n",
       "    </tr>\n",
       "    <tr>\n",
       "      <th>6</th>\n",
       "      <td>Straight Outta Compton</td>\n",
       "      <td>2015</td>\n",
       "      <td>$hutter</td>\n",
       "      <td>actor</td>\n",
       "      <td>Dopeman</td>\n",
       "      <td>NA</td>\n",
       "    </tr>\n",
       "    <tr>\n",
       "      <th>7</th>\n",
       "      <td>For Thy Love 2</td>\n",
       "      <td>2009</td>\n",
       "      <td>Bee Moe $lim</td>\n",
       "      <td>actor</td>\n",
       "      <td>Thug 1</td>\n",
       "      <td>NA</td>\n",
       "    </tr>\n",
       "    <tr>\n",
       "      <th>...</th>\n",
       "      <td>...</td>\n",
       "      <td>...</td>\n",
       "      <td>...</td>\n",
       "      <td>...</td>\n",
       "      <td>...</td>\n",
       "      <td>...</td>\n",
       "    </tr>\n",
       "    <tr>\n",
       "      <th>74984</th>\n",
       "      <td>Ovum</td>\n",
       "      <td>2015</td>\n",
       "      <td>Christina Rosas Anastasiou</td>\n",
       "      <td>actress</td>\n",
       "      <td>Fertility Clinic Receptionist</td>\n",
       "      <td>NA</td>\n",
       "    </tr>\n",
       "    <tr>\n",
       "      <th>74985</th>\n",
       "      <td>7 avlu</td>\n",
       "      <td>2009</td>\n",
       "      <td>Evmorfia Anastasiou</td>\n",
       "      <td>actress</td>\n",
       "      <td>Eleni</td>\n",
       "      <td>NA</td>\n",
       "    </tr>\n",
       "    <tr>\n",
       "      <th>74993</th>\n",
       "      <td>I teliki apopliromi</td>\n",
       "      <td>2013</td>\n",
       "      <td>Mara Anastasopoulou</td>\n",
       "      <td>actress</td>\n",
       "      <td>Marina's friend</td>\n",
       "      <td>NA</td>\n",
       "    </tr>\n",
       "    <tr>\n",
       "      <th>74997</th>\n",
       "      <td>The Magician King</td>\n",
       "      <td>2004</td>\n",
       "      <td>Tiannah Anastassiades</td>\n",
       "      <td>actress</td>\n",
       "      <td>Unicycle Race Attendant</td>\n",
       "      <td>NA</td>\n",
       "    </tr>\n",
       "    <tr>\n",
       "      <th>74999</th>\n",
       "      <td>Toxic Tutu</td>\n",
       "      <td>2016</td>\n",
       "      <td>Zoe Anastassiou</td>\n",
       "      <td>actress</td>\n",
       "      <td>Demon of Toxicity</td>\n",
       "      <td>NA</td>\n",
       "    </tr>\n",
       "  </tbody>\n",
       "</table>\n",
       "<p>28966 rows × 6 columns</p>\n",
       "</div>"
      ],
      "text/plain": [
       "                        title  year                        name     type  \\\n",
       "3        Secret in Their Eyes  2015                     $hutter    actor   \n",
       "4                  Steve Jobs  2015                     $hutter    actor   \n",
       "5      Straight Outta Compton  2015                     $hutter    actor   \n",
       "6      Straight Outta Compton  2015                     $hutter    actor   \n",
       "7              For Thy Love 2  2009                Bee Moe $lim    actor   \n",
       "...                       ...   ...                         ...      ...   \n",
       "74984                    Ovum  2015  Christina Rosas Anastasiou  actress   \n",
       "74985                  7 avlu  2009         Evmorfia Anastasiou  actress   \n",
       "74993     I teliki apopliromi  2013         Mara Anastasopoulou  actress   \n",
       "74997       The Magician King  2004       Tiannah Anastassiades  actress   \n",
       "74999              Toxic Tutu  2016             Zoe Anastassiou  actress   \n",
       "\n",
       "                           character   n  \n",
       "3                    2002 Dodger Fan  NA  \n",
       "4            1988 Opera House Patron  NA  \n",
       "5                        Club Patron  NA  \n",
       "6                            Dopeman  NA  \n",
       "7                             Thug 1  NA  \n",
       "...                              ...  ..  \n",
       "74984  Fertility Clinic Receptionist  NA  \n",
       "74985                          Eleni  NA  \n",
       "74993                Marina's friend  NA  \n",
       "74997        Unicycle Race Attendant  NA  \n",
       "74999              Demon of Toxicity  NA  \n",
       "\n",
       "[28966 rows x 6 columns]"
      ]
     },
     "execution_count": 96,
     "metadata": {},
     "output_type": "execute_result"
    }
   ],
   "source": [
    "c_fill= c[c['n'].isnull()].fillna('NA') # can also use ffill and bfill\n",
    "c_fill"
   ]
  },
  {
   "cell_type": "code",
   "execution_count": 101,
   "metadata": {},
   "outputs": [
    {
     "data": {
      "text/html": [
       "<div>\n",
       "<style scoped>\n",
       "    .dataframe tbody tr th:only-of-type {\n",
       "        vertical-align: middle;\n",
       "    }\n",
       "\n",
       "    .dataframe tbody tr th {\n",
       "        vertical-align: top;\n",
       "    }\n",
       "\n",
       "    .dataframe thead th {\n",
       "        text-align: right;\n",
       "    }\n",
       "</style>\n",
       "<table border=\"1\" class=\"dataframe\">\n",
       "  <thead>\n",
       "    <tr style=\"text-align: right;\">\n",
       "      <th></th>\n",
       "      <th>title</th>\n",
       "      <th>year</th>\n",
       "    </tr>\n",
       "  </thead>\n",
       "  <tbody>\n",
       "    <tr>\n",
       "      <th>38880</th>\n",
       "      <td>Maa</td>\n",
       "      <td>1968</td>\n",
       "    </tr>\n",
       "  </tbody>\n",
       "</table>\n",
       "</div>"
      ],
      "text/plain": [
       "      title  year\n",
       "38880   Maa  1968"
      ]
     },
     "execution_count": 101,
     "metadata": {},
     "output_type": "execute_result"
    }
   ],
   "source": [
    "# String Operations \n",
    "\n",
    "t = titles\n",
    "t[t['title'] == 'Maa'] # searching for the movie Maa\n"
   ]
  },
  {
   "cell_type": "code",
   "execution_count": 103,
   "metadata": {},
   "outputs": [
    {
     "data": {
      "text/html": [
       "<div>\n",
       "<style scoped>\n",
       "    .dataframe tbody tr th:only-of-type {\n",
       "        vertical-align: middle;\n",
       "    }\n",
       "\n",
       "    .dataframe tbody tr th {\n",
       "        vertical-align: top;\n",
       "    }\n",
       "\n",
       "    .dataframe thead th {\n",
       "        text-align: right;\n",
       "    }\n",
       "</style>\n",
       "<table border=\"1\" class=\"dataframe\">\n",
       "  <thead>\n",
       "    <tr style=\"text-align: right;\">\n",
       "      <th></th>\n",
       "      <th>title</th>\n",
       "      <th>year</th>\n",
       "    </tr>\n",
       "  </thead>\n",
       "  <tbody>\n",
       "    <tr>\n",
       "      <th>19</th>\n",
       "      <td>Maa Durga Shakti</td>\n",
       "      <td>1999</td>\n",
       "    </tr>\n",
       "    <tr>\n",
       "      <th>334</th>\n",
       "      <td>Maarek hob</td>\n",
       "      <td>2004</td>\n",
       "    </tr>\n",
       "    <tr>\n",
       "      <th>3046</th>\n",
       "      <td>Maa Aur Mamta</td>\n",
       "      <td>1970</td>\n",
       "    </tr>\n",
       "    <tr>\n",
       "      <th>6304</th>\n",
       "      <td>Maampazhakkaalam</td>\n",
       "      <td>2004</td>\n",
       "    </tr>\n",
       "    <tr>\n",
       "      <th>7470</th>\n",
       "      <td>Maa Vaibhav Laxmi</td>\n",
       "      <td>1989</td>\n",
       "    </tr>\n",
       "  </tbody>\n",
       "</table>\n",
       "</div>"
      ],
      "text/plain": [
       "                  title  year\n",
       "19     Maa Durga Shakti  1999\n",
       "334          Maarek hob  2004\n",
       "3046      Maa Aur Mamta  1970\n",
       "6304   Maampazhakkaalam  2004\n",
       "7470  Maa Vaibhav Laxmi  1989"
      ]
     },
     "execution_count": 103,
     "metadata": {},
     "output_type": "execute_result"
    }
   ],
   "source": [
    "t[t['title'].str.startswith('Maa')].head()"
   ]
  },
  {
   "cell_type": "code",
   "execution_count": 104,
   "metadata": {},
   "outputs": [
    {
     "data": {
      "text/plain": [
       "2016    2363\n",
       "2017    2138\n",
       "2015    1849\n",
       "2014    1701\n",
       "2013    1609\n",
       "Name: year, dtype: int64"
      ]
     },
     "execution_count": 104,
     "metadata": {},
     "output_type": "execute_result"
    }
   ],
   "source": [
    "# Count values \n",
    "\n",
    "t['year'].value_counts().head() # number of years for each year in the DataFrame"
   ]
  },
  {
   "cell_type": "code",
   "execution_count": 105,
   "metadata": {},
   "outputs": [
    {
     "data": {
      "text/plain": [
       "actor      50000\n",
       "actress    25001\n",
       "Name: type, dtype: int64"
      ]
     },
     "execution_count": 105,
     "metadata": {},
     "output_type": "execute_result"
    }
   ],
   "source": [
    "c['type'].value_counts().head() # number of actors or actresses in the Dataframe"
   ]
  },
  {
   "cell_type": "code",
   "execution_count": 106,
   "metadata": {},
   "outputs": [
    {
     "data": {
      "text/html": [
       "<div>\n",
       "<style scoped>\n",
       "    .dataframe tbody tr th:only-of-type {\n",
       "        vertical-align: middle;\n",
       "    }\n",
       "\n",
       "    .dataframe tbody tr th {\n",
       "        vertical-align: top;\n",
       "    }\n",
       "\n",
       "    .dataframe thead th {\n",
       "        text-align: right;\n",
       "    }\n",
       "</style>\n",
       "<table border=\"1\" class=\"dataframe\">\n",
       "  <thead>\n",
       "    <tr style=\"text-align: right;\">\n",
       "      <th></th>\n",
       "      <th>title</th>\n",
       "      <th>year</th>\n",
       "      <th>country</th>\n",
       "      <th>date</th>\n",
       "    </tr>\n",
       "  </thead>\n",
       "  <tbody>\n",
       "    <tr>\n",
       "      <th>0</th>\n",
       "      <td>#73, Shaanthi Nivaasa</td>\n",
       "      <td>2007</td>\n",
       "      <td>India</td>\n",
       "      <td>2007-06-15</td>\n",
       "    </tr>\n",
       "    <tr>\n",
       "      <th>1</th>\n",
       "      <td>#Beings</td>\n",
       "      <td>2015</td>\n",
       "      <td>Romania</td>\n",
       "      <td>2015-01-29</td>\n",
       "    </tr>\n",
       "    <tr>\n",
       "      <th>2</th>\n",
       "      <td>#Declimax</td>\n",
       "      <td>2018</td>\n",
       "      <td>Netherlands</td>\n",
       "      <td>2018-01-21</td>\n",
       "    </tr>\n",
       "    <tr>\n",
       "      <th>3</th>\n",
       "      <td>#Ewankosau saranghaeyo</td>\n",
       "      <td>2015</td>\n",
       "      <td>Philippines</td>\n",
       "      <td>2015-01-21</td>\n",
       "    </tr>\n",
       "    <tr>\n",
       "      <th>4</th>\n",
       "      <td>#Horror</td>\n",
       "      <td>2015</td>\n",
       "      <td>USA</td>\n",
       "      <td>2015-11-20</td>\n",
       "    </tr>\n",
       "    <tr>\n",
       "      <th>...</th>\n",
       "      <td>...</td>\n",
       "      <td>...</td>\n",
       "      <td>...</td>\n",
       "      <td>...</td>\n",
       "    </tr>\n",
       "    <tr>\n",
       "      <th>49995</th>\n",
       "      <td>Botched</td>\n",
       "      <td>2007</td>\n",
       "      <td>UK</td>\n",
       "      <td>2008-04-18</td>\n",
       "    </tr>\n",
       "    <tr>\n",
       "      <th>49996</th>\n",
       "      <td>Botched</td>\n",
       "      <td>2007</td>\n",
       "      <td>Peru</td>\n",
       "      <td>2010-01-21</td>\n",
       "    </tr>\n",
       "    <tr>\n",
       "      <th>49997</th>\n",
       "      <td>Bote, dyaryo, garapa</td>\n",
       "      <td>1989</td>\n",
       "      <td>Philippines</td>\n",
       "      <td>1989-05-26</td>\n",
       "    </tr>\n",
       "    <tr>\n",
       "      <th>49998</th>\n",
       "      <td>Both Barrels Blazing</td>\n",
       "      <td>1945</td>\n",
       "      <td>USA</td>\n",
       "      <td>1945-05-17</td>\n",
       "    </tr>\n",
       "    <tr>\n",
       "      <th>49999</th>\n",
       "      <td>Botika sa baryo</td>\n",
       "      <td>1960</td>\n",
       "      <td>Philippines</td>\n",
       "      <td>1960-09-23</td>\n",
       "    </tr>\n",
       "  </tbody>\n",
       "</table>\n",
       "<p>50000 rows × 4 columns</p>\n",
       "</div>"
      ],
      "text/plain": [
       "                        title  year      country        date\n",
       "0       #73, Shaanthi Nivaasa  2007        India  2007-06-15\n",
       "1                     #Beings  2015      Romania  2015-01-29\n",
       "2                   #Declimax  2018  Netherlands  2018-01-21\n",
       "3      #Ewankosau saranghaeyo  2015  Philippines  2015-01-21\n",
       "4                     #Horror  2015          USA  2015-11-20\n",
       "...                       ...   ...          ...         ...\n",
       "49995                 Botched  2007           UK  2008-04-18\n",
       "49996                 Botched  2007         Peru  2010-01-21\n",
       "49997    Bote, dyaryo, garapa  1989  Philippines  1989-05-26\n",
       "49998    Both Barrels Blazing  1945          USA  1945-05-17\n",
       "49999         Botika sa baryo  1960  Philippines  1960-09-23\n",
       "\n",
       "[50000 rows x 4 columns]"
      ]
     },
     "execution_count": 106,
     "metadata": {},
     "output_type": "execute_result"
    }
   ],
   "source": [
    "# merge \n",
    "\n",
    "release = pd.read_csv('release_dates.csv', index_col = None) \n",
    "release\n"
   ]
  },
  {
   "cell_type": "code",
   "execution_count": 107,
   "metadata": {},
   "outputs": [
    {
     "data": {
      "text/html": [
       "<div>\n",
       "<style scoped>\n",
       "    .dataframe tbody tr th:only-of-type {\n",
       "        vertical-align: middle;\n",
       "    }\n",
       "\n",
       "    .dataframe tbody tr th {\n",
       "        vertical-align: top;\n",
       "    }\n",
       "\n",
       "    .dataframe thead th {\n",
       "        text-align: right;\n",
       "    }\n",
       "</style>\n",
       "<table border=\"1\" class=\"dataframe\">\n",
       "  <thead>\n",
       "    <tr style=\"text-align: right;\">\n",
       "      <th></th>\n",
       "      <th>title</th>\n",
       "      <th>year</th>\n",
       "      <th>name</th>\n",
       "      <th>type</th>\n",
       "      <th>character</th>\n",
       "      <th>n</th>\n",
       "    </tr>\n",
       "  </thead>\n",
       "  <tbody>\n",
       "    <tr>\n",
       "      <th>5767</th>\n",
       "      <td>Amelia</td>\n",
       "      <td>2009</td>\n",
       "      <td>Aaron Abrams</td>\n",
       "      <td>actor</td>\n",
       "      <td>Slim Gordon</td>\n",
       "      <td>8.0</td>\n",
       "    </tr>\n",
       "    <tr>\n",
       "      <th>23319</th>\n",
       "      <td>Amelia</td>\n",
       "      <td>2009</td>\n",
       "      <td>Jeremy Akerman</td>\n",
       "      <td>actor</td>\n",
       "      <td>Sheriff</td>\n",
       "      <td>19.0</td>\n",
       "    </tr>\n",
       "  </tbody>\n",
       "</table>\n",
       "</div>"
      ],
      "text/plain": [
       "        title  year            name   type    character     n\n",
       "5767   Amelia  2009    Aaron Abrams  actor  Slim Gordon   8.0\n",
       "23319  Amelia  2009  Jeremy Akerman  actor      Sheriff  19.0"
      ]
     },
     "execution_count": 107,
     "metadata": {},
     "output_type": "execute_result"
    }
   ],
   "source": [
    "c_amelia = casts[casts['title'] == 'Amelia']\n",
    "c_amelia"
   ]
  },
  {
   "cell_type": "code",
   "execution_count": 109,
   "metadata": {},
   "outputs": [
    {
     "data": {
      "text/html": [
       "<div>\n",
       "<style scoped>\n",
       "    .dataframe tbody tr th:only-of-type {\n",
       "        vertical-align: middle;\n",
       "    }\n",
       "\n",
       "    .dataframe tbody tr th {\n",
       "        vertical-align: top;\n",
       "    }\n",
       "\n",
       "    .dataframe thead th {\n",
       "        text-align: right;\n",
       "    }\n",
       "</style>\n",
       "<table border=\"1\" class=\"dataframe\">\n",
       "  <thead>\n",
       "    <tr style=\"text-align: right;\">\n",
       "      <th></th>\n",
       "      <th>title</th>\n",
       "      <th>year</th>\n",
       "      <th>country</th>\n",
       "      <th>date</th>\n",
       "    </tr>\n",
       "  </thead>\n",
       "  <tbody>\n",
       "    <tr>\n",
       "      <th>20543</th>\n",
       "      <td>Amelia</td>\n",
       "      <td>1966</td>\n",
       "      <td>Mexico</td>\n",
       "      <td>1966-03-10</td>\n",
       "    </tr>\n",
       "    <tr>\n",
       "      <th>20544</th>\n",
       "      <td>Amelia</td>\n",
       "      <td>2009</td>\n",
       "      <td>Canada</td>\n",
       "      <td>2009-10-23</td>\n",
       "    </tr>\n",
       "    <tr>\n",
       "      <th>20545</th>\n",
       "      <td>Amelia</td>\n",
       "      <td>2009</td>\n",
       "      <td>USA</td>\n",
       "      <td>2009-10-23</td>\n",
       "    </tr>\n",
       "    <tr>\n",
       "      <th>20546</th>\n",
       "      <td>Amelia</td>\n",
       "      <td>2009</td>\n",
       "      <td>Australia</td>\n",
       "      <td>2009-11-12</td>\n",
       "    </tr>\n",
       "    <tr>\n",
       "      <th>20547</th>\n",
       "      <td>Amelia</td>\n",
       "      <td>2009</td>\n",
       "      <td>Singapore</td>\n",
       "      <td>2009-11-12</td>\n",
       "    </tr>\n",
       "  </tbody>\n",
       "</table>\n",
       "</div>"
      ],
      "text/plain": [
       "        title  year    country        date\n",
       "20543  Amelia  1966     Mexico  1966-03-10\n",
       "20544  Amelia  2009     Canada  2009-10-23\n",
       "20545  Amelia  2009        USA  2009-10-23\n",
       "20546  Amelia  2009  Australia  2009-11-12\n",
       "20547  Amelia  2009  Singapore  2009-11-12"
      ]
     },
     "execution_count": 109,
     "metadata": {},
     "output_type": "execute_result"
    }
   ],
   "source": [
    "release[release['title'] == 'Amelia'].head()"
   ]
  },
  {
   "cell_type": "code",
   "execution_count": 110,
   "metadata": {},
   "outputs": [
    {
     "data": {
      "text/html": [
       "<div>\n",
       "<style scoped>\n",
       "    .dataframe tbody tr th:only-of-type {\n",
       "        vertical-align: middle;\n",
       "    }\n",
       "\n",
       "    .dataframe tbody tr th {\n",
       "        vertical-align: top;\n",
       "    }\n",
       "\n",
       "    .dataframe thead th {\n",
       "        text-align: right;\n",
       "    }\n",
       "</style>\n",
       "<table border=\"1\" class=\"dataframe\">\n",
       "  <thead>\n",
       "    <tr style=\"text-align: right;\">\n",
       "      <th></th>\n",
       "      <th>title</th>\n",
       "      <th>year</th>\n",
       "      <th>name</th>\n",
       "      <th>type</th>\n",
       "      <th>character</th>\n",
       "      <th>n</th>\n",
       "      <th>country</th>\n",
       "      <th>date</th>\n",
       "    </tr>\n",
       "  </thead>\n",
       "  <tbody>\n",
       "    <tr>\n",
       "      <th>0</th>\n",
       "      <td>Amelia</td>\n",
       "      <td>2009</td>\n",
       "      <td>Aaron Abrams</td>\n",
       "      <td>actor</td>\n",
       "      <td>Slim Gordon</td>\n",
       "      <td>8.0</td>\n",
       "      <td>Canada</td>\n",
       "      <td>2009-10-23</td>\n",
       "    </tr>\n",
       "    <tr>\n",
       "      <th>1</th>\n",
       "      <td>Amelia</td>\n",
       "      <td>2009</td>\n",
       "      <td>Aaron Abrams</td>\n",
       "      <td>actor</td>\n",
       "      <td>Slim Gordon</td>\n",
       "      <td>8.0</td>\n",
       "      <td>USA</td>\n",
       "      <td>2009-10-23</td>\n",
       "    </tr>\n",
       "    <tr>\n",
       "      <th>2</th>\n",
       "      <td>Amelia</td>\n",
       "      <td>2009</td>\n",
       "      <td>Aaron Abrams</td>\n",
       "      <td>actor</td>\n",
       "      <td>Slim Gordon</td>\n",
       "      <td>8.0</td>\n",
       "      <td>Australia</td>\n",
       "      <td>2009-11-12</td>\n",
       "    </tr>\n",
       "    <tr>\n",
       "      <th>3</th>\n",
       "      <td>Amelia</td>\n",
       "      <td>2009</td>\n",
       "      <td>Aaron Abrams</td>\n",
       "      <td>actor</td>\n",
       "      <td>Slim Gordon</td>\n",
       "      <td>8.0</td>\n",
       "      <td>Singapore</td>\n",
       "      <td>2009-11-12</td>\n",
       "    </tr>\n",
       "    <tr>\n",
       "      <th>4</th>\n",
       "      <td>Amelia</td>\n",
       "      <td>2009</td>\n",
       "      <td>Aaron Abrams</td>\n",
       "      <td>actor</td>\n",
       "      <td>Slim Gordon</td>\n",
       "      <td>8.0</td>\n",
       "      <td>Ireland</td>\n",
       "      <td>2009-11-13</td>\n",
       "    </tr>\n",
       "    <tr>\n",
       "      <th>5</th>\n",
       "      <td>Amelia</td>\n",
       "      <td>2009</td>\n",
       "      <td>Aaron Abrams</td>\n",
       "      <td>actor</td>\n",
       "      <td>Slim Gordon</td>\n",
       "      <td>8.0</td>\n",
       "      <td>Mexico</td>\n",
       "      <td>2009-11-13</td>\n",
       "    </tr>\n",
       "    <tr>\n",
       "      <th>6</th>\n",
       "      <td>Amelia</td>\n",
       "      <td>2009</td>\n",
       "      <td>Aaron Abrams</td>\n",
       "      <td>actor</td>\n",
       "      <td>Slim Gordon</td>\n",
       "      <td>8.0</td>\n",
       "      <td>UK</td>\n",
       "      <td>2009-11-13</td>\n",
       "    </tr>\n",
       "    <tr>\n",
       "      <th>7</th>\n",
       "      <td>Amelia</td>\n",
       "      <td>2009</td>\n",
       "      <td>Aaron Abrams</td>\n",
       "      <td>actor</td>\n",
       "      <td>Slim Gordon</td>\n",
       "      <td>8.0</td>\n",
       "      <td>Spain</td>\n",
       "      <td>2009-11-20</td>\n",
       "    </tr>\n",
       "    <tr>\n",
       "      <th>8</th>\n",
       "      <td>Amelia</td>\n",
       "      <td>2009</td>\n",
       "      <td>Aaron Abrams</td>\n",
       "      <td>actor</td>\n",
       "      <td>Slim Gordon</td>\n",
       "      <td>8.0</td>\n",
       "      <td>Philippines</td>\n",
       "      <td>2009-12-02</td>\n",
       "    </tr>\n",
       "    <tr>\n",
       "      <th>9</th>\n",
       "      <td>Amelia</td>\n",
       "      <td>2009</td>\n",
       "      <td>Aaron Abrams</td>\n",
       "      <td>actor</td>\n",
       "      <td>Slim Gordon</td>\n",
       "      <td>8.0</td>\n",
       "      <td>Italy</td>\n",
       "      <td>2009-12-23</td>\n",
       "    </tr>\n",
       "    <tr>\n",
       "      <th>10</th>\n",
       "      <td>Amelia</td>\n",
       "      <td>2009</td>\n",
       "      <td>Aaron Abrams</td>\n",
       "      <td>actor</td>\n",
       "      <td>Slim Gordon</td>\n",
       "      <td>8.0</td>\n",
       "      <td>Sweden</td>\n",
       "      <td>2010-01-01</td>\n",
       "    </tr>\n",
       "    <tr>\n",
       "      <th>11</th>\n",
       "      <td>Amelia</td>\n",
       "      <td>2009</td>\n",
       "      <td>Aaron Abrams</td>\n",
       "      <td>actor</td>\n",
       "      <td>Slim Gordon</td>\n",
       "      <td>8.0</td>\n",
       "      <td>Turkey</td>\n",
       "      <td>2010-01-08</td>\n",
       "    </tr>\n",
       "    <tr>\n",
       "      <th>12</th>\n",
       "      <td>Amelia</td>\n",
       "      <td>2009</td>\n",
       "      <td>Aaron Abrams</td>\n",
       "      <td>actor</td>\n",
       "      <td>Slim Gordon</td>\n",
       "      <td>8.0</td>\n",
       "      <td>Belarus</td>\n",
       "      <td>2010-01-14</td>\n",
       "    </tr>\n",
       "    <tr>\n",
       "      <th>13</th>\n",
       "      <td>Amelia</td>\n",
       "      <td>2009</td>\n",
       "      <td>Aaron Abrams</td>\n",
       "      <td>actor</td>\n",
       "      <td>Slim Gordon</td>\n",
       "      <td>8.0</td>\n",
       "      <td>Kazakhstan</td>\n",
       "      <td>2010-01-14</td>\n",
       "    </tr>\n",
       "    <tr>\n",
       "      <th>14</th>\n",
       "      <td>Amelia</td>\n",
       "      <td>2009</td>\n",
       "      <td>Aaron Abrams</td>\n",
       "      <td>actor</td>\n",
       "      <td>Slim Gordon</td>\n",
       "      <td>8.0</td>\n",
       "      <td>Russia</td>\n",
       "      <td>2010-01-14</td>\n",
       "    </tr>\n",
       "    <tr>\n",
       "      <th>15</th>\n",
       "      <td>Amelia</td>\n",
       "      <td>2009</td>\n",
       "      <td>Aaron Abrams</td>\n",
       "      <td>actor</td>\n",
       "      <td>Slim Gordon</td>\n",
       "      <td>8.0</td>\n",
       "      <td>Greece</td>\n",
       "      <td>2010-01-21</td>\n",
       "    </tr>\n",
       "    <tr>\n",
       "      <th>16</th>\n",
       "      <td>Amelia</td>\n",
       "      <td>2009</td>\n",
       "      <td>Aaron Abrams</td>\n",
       "      <td>actor</td>\n",
       "      <td>Slim Gordon</td>\n",
       "      <td>8.0</td>\n",
       "      <td>Poland</td>\n",
       "      <td>2010-02-12</td>\n",
       "    </tr>\n",
       "    <tr>\n",
       "      <th>17</th>\n",
       "      <td>Amelia</td>\n",
       "      <td>2009</td>\n",
       "      <td>Aaron Abrams</td>\n",
       "      <td>actor</td>\n",
       "      <td>Slim Gordon</td>\n",
       "      <td>8.0</td>\n",
       "      <td>Belgium</td>\n",
       "      <td>2010-03-03</td>\n",
       "    </tr>\n",
       "    <tr>\n",
       "      <th>18</th>\n",
       "      <td>Amelia</td>\n",
       "      <td>2009</td>\n",
       "      <td>Aaron Abrams</td>\n",
       "      <td>actor</td>\n",
       "      <td>Slim Gordon</td>\n",
       "      <td>8.0</td>\n",
       "      <td>India</td>\n",
       "      <td>2010-03-12</td>\n",
       "    </tr>\n",
       "    <tr>\n",
       "      <th>19</th>\n",
       "      <td>Amelia</td>\n",
       "      <td>2009</td>\n",
       "      <td>Aaron Abrams</td>\n",
       "      <td>actor</td>\n",
       "      <td>Slim Gordon</td>\n",
       "      <td>8.0</td>\n",
       "      <td>Netherlands</td>\n",
       "      <td>2010-03-25</td>\n",
       "    </tr>\n",
       "    <tr>\n",
       "      <th>20</th>\n",
       "      <td>Amelia</td>\n",
       "      <td>2009</td>\n",
       "      <td>Aaron Abrams</td>\n",
       "      <td>actor</td>\n",
       "      <td>Slim Gordon</td>\n",
       "      <td>8.0</td>\n",
       "      <td>Brazil</td>\n",
       "      <td>2010-03-26</td>\n",
       "    </tr>\n",
       "    <tr>\n",
       "      <th>21</th>\n",
       "      <td>Amelia</td>\n",
       "      <td>2009</td>\n",
       "      <td>Aaron Abrams</td>\n",
       "      <td>actor</td>\n",
       "      <td>Slim Gordon</td>\n",
       "      <td>8.0</td>\n",
       "      <td>France</td>\n",
       "      <td>2010-04-14</td>\n",
       "    </tr>\n",
       "    <tr>\n",
       "      <th>22</th>\n",
       "      <td>Amelia</td>\n",
       "      <td>2009</td>\n",
       "      <td>Aaron Abrams</td>\n",
       "      <td>actor</td>\n",
       "      <td>Slim Gordon</td>\n",
       "      <td>8.0</td>\n",
       "      <td>Germany</td>\n",
       "      <td>2010-06-17</td>\n",
       "    </tr>\n",
       "    <tr>\n",
       "      <th>23</th>\n",
       "      <td>Amelia</td>\n",
       "      <td>2009</td>\n",
       "      <td>Aaron Abrams</td>\n",
       "      <td>actor</td>\n",
       "      <td>Slim Gordon</td>\n",
       "      <td>8.0</td>\n",
       "      <td>Japan</td>\n",
       "      <td>2010-11-27</td>\n",
       "    </tr>\n",
       "    <tr>\n",
       "      <th>24</th>\n",
       "      <td>Amelia</td>\n",
       "      <td>2009</td>\n",
       "      <td>Jeremy Akerman</td>\n",
       "      <td>actor</td>\n",
       "      <td>Sheriff</td>\n",
       "      <td>19.0</td>\n",
       "      <td>Canada</td>\n",
       "      <td>2009-10-23</td>\n",
       "    </tr>\n",
       "    <tr>\n",
       "      <th>25</th>\n",
       "      <td>Amelia</td>\n",
       "      <td>2009</td>\n",
       "      <td>Jeremy Akerman</td>\n",
       "      <td>actor</td>\n",
       "      <td>Sheriff</td>\n",
       "      <td>19.0</td>\n",
       "      <td>USA</td>\n",
       "      <td>2009-10-23</td>\n",
       "    </tr>\n",
       "    <tr>\n",
       "      <th>26</th>\n",
       "      <td>Amelia</td>\n",
       "      <td>2009</td>\n",
       "      <td>Jeremy Akerman</td>\n",
       "      <td>actor</td>\n",
       "      <td>Sheriff</td>\n",
       "      <td>19.0</td>\n",
       "      <td>Australia</td>\n",
       "      <td>2009-11-12</td>\n",
       "    </tr>\n",
       "    <tr>\n",
       "      <th>27</th>\n",
       "      <td>Amelia</td>\n",
       "      <td>2009</td>\n",
       "      <td>Jeremy Akerman</td>\n",
       "      <td>actor</td>\n",
       "      <td>Sheriff</td>\n",
       "      <td>19.0</td>\n",
       "      <td>Singapore</td>\n",
       "      <td>2009-11-12</td>\n",
       "    </tr>\n",
       "    <tr>\n",
       "      <th>28</th>\n",
       "      <td>Amelia</td>\n",
       "      <td>2009</td>\n",
       "      <td>Jeremy Akerman</td>\n",
       "      <td>actor</td>\n",
       "      <td>Sheriff</td>\n",
       "      <td>19.0</td>\n",
       "      <td>Ireland</td>\n",
       "      <td>2009-11-13</td>\n",
       "    </tr>\n",
       "    <tr>\n",
       "      <th>29</th>\n",
       "      <td>Amelia</td>\n",
       "      <td>2009</td>\n",
       "      <td>Jeremy Akerman</td>\n",
       "      <td>actor</td>\n",
       "      <td>Sheriff</td>\n",
       "      <td>19.0</td>\n",
       "      <td>Mexico</td>\n",
       "      <td>2009-11-13</td>\n",
       "    </tr>\n",
       "    <tr>\n",
       "      <th>30</th>\n",
       "      <td>Amelia</td>\n",
       "      <td>2009</td>\n",
       "      <td>Jeremy Akerman</td>\n",
       "      <td>actor</td>\n",
       "      <td>Sheriff</td>\n",
       "      <td>19.0</td>\n",
       "      <td>UK</td>\n",
       "      <td>2009-11-13</td>\n",
       "    </tr>\n",
       "    <tr>\n",
       "      <th>31</th>\n",
       "      <td>Amelia</td>\n",
       "      <td>2009</td>\n",
       "      <td>Jeremy Akerman</td>\n",
       "      <td>actor</td>\n",
       "      <td>Sheriff</td>\n",
       "      <td>19.0</td>\n",
       "      <td>Spain</td>\n",
       "      <td>2009-11-20</td>\n",
       "    </tr>\n",
       "    <tr>\n",
       "      <th>32</th>\n",
       "      <td>Amelia</td>\n",
       "      <td>2009</td>\n",
       "      <td>Jeremy Akerman</td>\n",
       "      <td>actor</td>\n",
       "      <td>Sheriff</td>\n",
       "      <td>19.0</td>\n",
       "      <td>Philippines</td>\n",
       "      <td>2009-12-02</td>\n",
       "    </tr>\n",
       "    <tr>\n",
       "      <th>33</th>\n",
       "      <td>Amelia</td>\n",
       "      <td>2009</td>\n",
       "      <td>Jeremy Akerman</td>\n",
       "      <td>actor</td>\n",
       "      <td>Sheriff</td>\n",
       "      <td>19.0</td>\n",
       "      <td>Italy</td>\n",
       "      <td>2009-12-23</td>\n",
       "    </tr>\n",
       "    <tr>\n",
       "      <th>34</th>\n",
       "      <td>Amelia</td>\n",
       "      <td>2009</td>\n",
       "      <td>Jeremy Akerman</td>\n",
       "      <td>actor</td>\n",
       "      <td>Sheriff</td>\n",
       "      <td>19.0</td>\n",
       "      <td>Sweden</td>\n",
       "      <td>2010-01-01</td>\n",
       "    </tr>\n",
       "    <tr>\n",
       "      <th>35</th>\n",
       "      <td>Amelia</td>\n",
       "      <td>2009</td>\n",
       "      <td>Jeremy Akerman</td>\n",
       "      <td>actor</td>\n",
       "      <td>Sheriff</td>\n",
       "      <td>19.0</td>\n",
       "      <td>Turkey</td>\n",
       "      <td>2010-01-08</td>\n",
       "    </tr>\n",
       "    <tr>\n",
       "      <th>36</th>\n",
       "      <td>Amelia</td>\n",
       "      <td>2009</td>\n",
       "      <td>Jeremy Akerman</td>\n",
       "      <td>actor</td>\n",
       "      <td>Sheriff</td>\n",
       "      <td>19.0</td>\n",
       "      <td>Belarus</td>\n",
       "      <td>2010-01-14</td>\n",
       "    </tr>\n",
       "    <tr>\n",
       "      <th>37</th>\n",
       "      <td>Amelia</td>\n",
       "      <td>2009</td>\n",
       "      <td>Jeremy Akerman</td>\n",
       "      <td>actor</td>\n",
       "      <td>Sheriff</td>\n",
       "      <td>19.0</td>\n",
       "      <td>Kazakhstan</td>\n",
       "      <td>2010-01-14</td>\n",
       "    </tr>\n",
       "    <tr>\n",
       "      <th>38</th>\n",
       "      <td>Amelia</td>\n",
       "      <td>2009</td>\n",
       "      <td>Jeremy Akerman</td>\n",
       "      <td>actor</td>\n",
       "      <td>Sheriff</td>\n",
       "      <td>19.0</td>\n",
       "      <td>Russia</td>\n",
       "      <td>2010-01-14</td>\n",
       "    </tr>\n",
       "    <tr>\n",
       "      <th>39</th>\n",
       "      <td>Amelia</td>\n",
       "      <td>2009</td>\n",
       "      <td>Jeremy Akerman</td>\n",
       "      <td>actor</td>\n",
       "      <td>Sheriff</td>\n",
       "      <td>19.0</td>\n",
       "      <td>Greece</td>\n",
       "      <td>2010-01-21</td>\n",
       "    </tr>\n",
       "    <tr>\n",
       "      <th>40</th>\n",
       "      <td>Amelia</td>\n",
       "      <td>2009</td>\n",
       "      <td>Jeremy Akerman</td>\n",
       "      <td>actor</td>\n",
       "      <td>Sheriff</td>\n",
       "      <td>19.0</td>\n",
       "      <td>Poland</td>\n",
       "      <td>2010-02-12</td>\n",
       "    </tr>\n",
       "    <tr>\n",
       "      <th>41</th>\n",
       "      <td>Amelia</td>\n",
       "      <td>2009</td>\n",
       "      <td>Jeremy Akerman</td>\n",
       "      <td>actor</td>\n",
       "      <td>Sheriff</td>\n",
       "      <td>19.0</td>\n",
       "      <td>Belgium</td>\n",
       "      <td>2010-03-03</td>\n",
       "    </tr>\n",
       "    <tr>\n",
       "      <th>42</th>\n",
       "      <td>Amelia</td>\n",
       "      <td>2009</td>\n",
       "      <td>Jeremy Akerman</td>\n",
       "      <td>actor</td>\n",
       "      <td>Sheriff</td>\n",
       "      <td>19.0</td>\n",
       "      <td>India</td>\n",
       "      <td>2010-03-12</td>\n",
       "    </tr>\n",
       "    <tr>\n",
       "      <th>43</th>\n",
       "      <td>Amelia</td>\n",
       "      <td>2009</td>\n",
       "      <td>Jeremy Akerman</td>\n",
       "      <td>actor</td>\n",
       "      <td>Sheriff</td>\n",
       "      <td>19.0</td>\n",
       "      <td>Netherlands</td>\n",
       "      <td>2010-03-25</td>\n",
       "    </tr>\n",
       "    <tr>\n",
       "      <th>44</th>\n",
       "      <td>Amelia</td>\n",
       "      <td>2009</td>\n",
       "      <td>Jeremy Akerman</td>\n",
       "      <td>actor</td>\n",
       "      <td>Sheriff</td>\n",
       "      <td>19.0</td>\n",
       "      <td>Brazil</td>\n",
       "      <td>2010-03-26</td>\n",
       "    </tr>\n",
       "    <tr>\n",
       "      <th>45</th>\n",
       "      <td>Amelia</td>\n",
       "      <td>2009</td>\n",
       "      <td>Jeremy Akerman</td>\n",
       "      <td>actor</td>\n",
       "      <td>Sheriff</td>\n",
       "      <td>19.0</td>\n",
       "      <td>France</td>\n",
       "      <td>2010-04-14</td>\n",
       "    </tr>\n",
       "    <tr>\n",
       "      <th>46</th>\n",
       "      <td>Amelia</td>\n",
       "      <td>2009</td>\n",
       "      <td>Jeremy Akerman</td>\n",
       "      <td>actor</td>\n",
       "      <td>Sheriff</td>\n",
       "      <td>19.0</td>\n",
       "      <td>Germany</td>\n",
       "      <td>2010-06-17</td>\n",
       "    </tr>\n",
       "    <tr>\n",
       "      <th>47</th>\n",
       "      <td>Amelia</td>\n",
       "      <td>2009</td>\n",
       "      <td>Jeremy Akerman</td>\n",
       "      <td>actor</td>\n",
       "      <td>Sheriff</td>\n",
       "      <td>19.0</td>\n",
       "      <td>Japan</td>\n",
       "      <td>2010-11-27</td>\n",
       "    </tr>\n",
       "  </tbody>\n",
       "</table>\n",
       "</div>"
      ],
      "text/plain": [
       "     title  year            name   type    character     n      country  \\\n",
       "0   Amelia  2009    Aaron Abrams  actor  Slim Gordon   8.0       Canada   \n",
       "1   Amelia  2009    Aaron Abrams  actor  Slim Gordon   8.0          USA   \n",
       "2   Amelia  2009    Aaron Abrams  actor  Slim Gordon   8.0    Australia   \n",
       "3   Amelia  2009    Aaron Abrams  actor  Slim Gordon   8.0    Singapore   \n",
       "4   Amelia  2009    Aaron Abrams  actor  Slim Gordon   8.0      Ireland   \n",
       "5   Amelia  2009    Aaron Abrams  actor  Slim Gordon   8.0       Mexico   \n",
       "6   Amelia  2009    Aaron Abrams  actor  Slim Gordon   8.0           UK   \n",
       "7   Amelia  2009    Aaron Abrams  actor  Slim Gordon   8.0        Spain   \n",
       "8   Amelia  2009    Aaron Abrams  actor  Slim Gordon   8.0  Philippines   \n",
       "9   Amelia  2009    Aaron Abrams  actor  Slim Gordon   8.0        Italy   \n",
       "10  Amelia  2009    Aaron Abrams  actor  Slim Gordon   8.0       Sweden   \n",
       "11  Amelia  2009    Aaron Abrams  actor  Slim Gordon   8.0       Turkey   \n",
       "12  Amelia  2009    Aaron Abrams  actor  Slim Gordon   8.0      Belarus   \n",
       "13  Amelia  2009    Aaron Abrams  actor  Slim Gordon   8.0   Kazakhstan   \n",
       "14  Amelia  2009    Aaron Abrams  actor  Slim Gordon   8.0       Russia   \n",
       "15  Amelia  2009    Aaron Abrams  actor  Slim Gordon   8.0       Greece   \n",
       "16  Amelia  2009    Aaron Abrams  actor  Slim Gordon   8.0       Poland   \n",
       "17  Amelia  2009    Aaron Abrams  actor  Slim Gordon   8.0      Belgium   \n",
       "18  Amelia  2009    Aaron Abrams  actor  Slim Gordon   8.0        India   \n",
       "19  Amelia  2009    Aaron Abrams  actor  Slim Gordon   8.0  Netherlands   \n",
       "20  Amelia  2009    Aaron Abrams  actor  Slim Gordon   8.0       Brazil   \n",
       "21  Amelia  2009    Aaron Abrams  actor  Slim Gordon   8.0       France   \n",
       "22  Amelia  2009    Aaron Abrams  actor  Slim Gordon   8.0      Germany   \n",
       "23  Amelia  2009    Aaron Abrams  actor  Slim Gordon   8.0        Japan   \n",
       "24  Amelia  2009  Jeremy Akerman  actor      Sheriff  19.0       Canada   \n",
       "25  Amelia  2009  Jeremy Akerman  actor      Sheriff  19.0          USA   \n",
       "26  Amelia  2009  Jeremy Akerman  actor      Sheriff  19.0    Australia   \n",
       "27  Amelia  2009  Jeremy Akerman  actor      Sheriff  19.0    Singapore   \n",
       "28  Amelia  2009  Jeremy Akerman  actor      Sheriff  19.0      Ireland   \n",
       "29  Amelia  2009  Jeremy Akerman  actor      Sheriff  19.0       Mexico   \n",
       "30  Amelia  2009  Jeremy Akerman  actor      Sheriff  19.0           UK   \n",
       "31  Amelia  2009  Jeremy Akerman  actor      Sheriff  19.0        Spain   \n",
       "32  Amelia  2009  Jeremy Akerman  actor      Sheriff  19.0  Philippines   \n",
       "33  Amelia  2009  Jeremy Akerman  actor      Sheriff  19.0        Italy   \n",
       "34  Amelia  2009  Jeremy Akerman  actor      Sheriff  19.0       Sweden   \n",
       "35  Amelia  2009  Jeremy Akerman  actor      Sheriff  19.0       Turkey   \n",
       "36  Amelia  2009  Jeremy Akerman  actor      Sheriff  19.0      Belarus   \n",
       "37  Amelia  2009  Jeremy Akerman  actor      Sheriff  19.0   Kazakhstan   \n",
       "38  Amelia  2009  Jeremy Akerman  actor      Sheriff  19.0       Russia   \n",
       "39  Amelia  2009  Jeremy Akerman  actor      Sheriff  19.0       Greece   \n",
       "40  Amelia  2009  Jeremy Akerman  actor      Sheriff  19.0       Poland   \n",
       "41  Amelia  2009  Jeremy Akerman  actor      Sheriff  19.0      Belgium   \n",
       "42  Amelia  2009  Jeremy Akerman  actor      Sheriff  19.0        India   \n",
       "43  Amelia  2009  Jeremy Akerman  actor      Sheriff  19.0  Netherlands   \n",
       "44  Amelia  2009  Jeremy Akerman  actor      Sheriff  19.0       Brazil   \n",
       "45  Amelia  2009  Jeremy Akerman  actor      Sheriff  19.0       France   \n",
       "46  Amelia  2009  Jeremy Akerman  actor      Sheriff  19.0      Germany   \n",
       "47  Amelia  2009  Jeremy Akerman  actor      Sheriff  19.0        Japan   \n",
       "\n",
       "          date  \n",
       "0   2009-10-23  \n",
       "1   2009-10-23  \n",
       "2   2009-11-12  \n",
       "3   2009-11-12  \n",
       "4   2009-11-13  \n",
       "5   2009-11-13  \n",
       "6   2009-11-13  \n",
       "7   2009-11-20  \n",
       "8   2009-12-02  \n",
       "9   2009-12-23  \n",
       "10  2010-01-01  \n",
       "11  2010-01-08  \n",
       "12  2010-01-14  \n",
       "13  2010-01-14  \n",
       "14  2010-01-14  \n",
       "15  2010-01-21  \n",
       "16  2010-02-12  \n",
       "17  2010-03-03  \n",
       "18  2010-03-12  \n",
       "19  2010-03-25  \n",
       "20  2010-03-26  \n",
       "21  2010-04-14  \n",
       "22  2010-06-17  \n",
       "23  2010-11-27  \n",
       "24  2009-10-23  \n",
       "25  2009-10-23  \n",
       "26  2009-11-12  \n",
       "27  2009-11-12  \n",
       "28  2009-11-13  \n",
       "29  2009-11-13  \n",
       "30  2009-11-13  \n",
       "31  2009-11-20  \n",
       "32  2009-12-02  \n",
       "33  2009-12-23  \n",
       "34  2010-01-01  \n",
       "35  2010-01-08  \n",
       "36  2010-01-14  \n",
       "37  2010-01-14  \n",
       "38  2010-01-14  \n",
       "39  2010-01-21  \n",
       "40  2010-02-12  \n",
       "41  2010-03-03  \n",
       "42  2010-03-12  \n",
       "43  2010-03-25  \n",
       "44  2010-03-26  \n",
       "45  2010-04-14  \n",
       "46  2010-06-17  \n",
       "47  2010-11-27  "
      ]
     },
     "execution_count": 110,
     "metadata": {},
     "output_type": "execute_result"
    }
   ],
   "source": [
    "c_amelia.merge(release)"
   ]
  },
  {
   "cell_type": "code",
   "execution_count": 111,
   "metadata": {},
   "outputs": [
    {
     "data": {
      "text/html": [
       "<div>\n",
       "<style scoped>\n",
       "    .dataframe tbody tr th:only-of-type {\n",
       "        vertical-align: middle;\n",
       "    }\n",
       "\n",
       "    .dataframe tbody tr th {\n",
       "        vertical-align: top;\n",
       "    }\n",
       "\n",
       "    .dataframe thead th {\n",
       "        text-align: right;\n",
       "    }\n",
       "</style>\n",
       "<table border=\"1\" class=\"dataframe\">\n",
       "  <thead>\n",
       "    <tr style=\"text-align: right;\">\n",
       "      <th></th>\n",
       "      <th>title</th>\n",
       "      <th>year</th>\n",
       "      <th>name</th>\n",
       "      <th>type</th>\n",
       "      <th>character</th>\n",
       "      <th>n</th>\n",
       "    </tr>\n",
       "  </thead>\n",
       "  <tbody>\n",
       "    <tr>\n",
       "      <th>5765</th>\n",
       "      <td>#FromJennifer</td>\n",
       "      <td>2017</td>\n",
       "      <td>Aaron Abrams</td>\n",
       "      <td>actor</td>\n",
       "      <td>Ralph Sinclair</td>\n",
       "      <td>NaN</td>\n",
       "    </tr>\n",
       "    <tr>\n",
       "      <th>5766</th>\n",
       "      <td>388 Arletta Avenue</td>\n",
       "      <td>2011</td>\n",
       "      <td>Aaron Abrams</td>\n",
       "      <td>actor</td>\n",
       "      <td>Alex</td>\n",
       "      <td>4.0</td>\n",
       "    </tr>\n",
       "  </tbody>\n",
       "</table>\n",
       "</div>"
      ],
      "text/plain": [
       "                   title  year          name   type       character    n\n",
       "5765       #FromJennifer  2017  Aaron Abrams  actor  Ralph Sinclair  NaN\n",
       "5766  388 Arletta Avenue  2011  Aaron Abrams  actor            Alex  4.0"
      ]
     },
     "execution_count": 111,
     "metadata": {},
     "output_type": "execute_result"
    }
   ],
   "source": [
    "c = casts[casts['name']=='Aaron Abrams' ]\n",
    "c.head(2)"
   ]
  },
  {
   "cell_type": "code",
   "execution_count": 112,
   "metadata": {},
   "outputs": [
    {
     "data": {
      "text/html": [
       "<div>\n",
       "<style scoped>\n",
       "    .dataframe tbody tr th:only-of-type {\n",
       "        vertical-align: middle;\n",
       "    }\n",
       "\n",
       "    .dataframe tbody tr th {\n",
       "        vertical-align: top;\n",
       "    }\n",
       "\n",
       "    .dataframe thead th {\n",
       "        text-align: right;\n",
       "    }\n",
       "</style>\n",
       "<table border=\"1\" class=\"dataframe\">\n",
       "  <thead>\n",
       "    <tr style=\"text-align: right;\">\n",
       "      <th></th>\n",
       "      <th>title</th>\n",
       "      <th>year</th>\n",
       "      <th>name_x</th>\n",
       "      <th>type_x</th>\n",
       "      <th>character_x</th>\n",
       "      <th>n_x</th>\n",
       "      <th>name_y</th>\n",
       "      <th>type_y</th>\n",
       "      <th>character_y</th>\n",
       "      <th>n_y</th>\n",
       "    </tr>\n",
       "  </thead>\n",
       "  <tbody>\n",
       "    <tr>\n",
       "      <th>0</th>\n",
       "      <td>#FromJennifer</td>\n",
       "      <td>2017</td>\n",
       "      <td>Aaron Abrams</td>\n",
       "      <td>actor</td>\n",
       "      <td>Ralph Sinclair</td>\n",
       "      <td>NaN</td>\n",
       "      <td>Aaron Abrams</td>\n",
       "      <td>actor</td>\n",
       "      <td>Ralph Sinclair</td>\n",
       "      <td>NaN</td>\n",
       "    </tr>\n",
       "    <tr>\n",
       "      <th>1</th>\n",
       "      <td>#FromJennifer</td>\n",
       "      <td>2017</td>\n",
       "      <td>Aaron Abrams</td>\n",
       "      <td>actor</td>\n",
       "      <td>Ralph Sinclair</td>\n",
       "      <td>NaN</td>\n",
       "      <td>Christian Ackerman</td>\n",
       "      <td>actor</td>\n",
       "      <td>Simon</td>\n",
       "      <td>NaN</td>\n",
       "    </tr>\n",
       "    <tr>\n",
       "      <th>2</th>\n",
       "      <td>388 Arletta Avenue</td>\n",
       "      <td>2011</td>\n",
       "      <td>Aaron Abrams</td>\n",
       "      <td>actor</td>\n",
       "      <td>Alex</td>\n",
       "      <td>4.0</td>\n",
       "      <td>Graham Abbey</td>\n",
       "      <td>actor</td>\n",
       "      <td>Officer #2</td>\n",
       "      <td>8.0</td>\n",
       "    </tr>\n",
       "    <tr>\n",
       "      <th>3</th>\n",
       "      <td>388 Arletta Avenue</td>\n",
       "      <td>2011</td>\n",
       "      <td>Aaron Abrams</td>\n",
       "      <td>actor</td>\n",
       "      <td>Alex</td>\n",
       "      <td>4.0</td>\n",
       "      <td>Aaron Abrams</td>\n",
       "      <td>actor</td>\n",
       "      <td>Alex</td>\n",
       "      <td>4.0</td>\n",
       "    </tr>\n",
       "    <tr>\n",
       "      <th>4</th>\n",
       "      <td>Amelia</td>\n",
       "      <td>2009</td>\n",
       "      <td>Aaron Abrams</td>\n",
       "      <td>actor</td>\n",
       "      <td>Slim Gordon</td>\n",
       "      <td>8.0</td>\n",
       "      <td>Aaron Abrams</td>\n",
       "      <td>actor</td>\n",
       "      <td>Slim Gordon</td>\n",
       "      <td>8.0</td>\n",
       "    </tr>\n",
       "  </tbody>\n",
       "</table>\n",
       "</div>"
      ],
      "text/plain": [
       "                title  year        name_x type_x     character_x  n_x  \\\n",
       "0       #FromJennifer  2017  Aaron Abrams  actor  Ralph Sinclair  NaN   \n",
       "1       #FromJennifer  2017  Aaron Abrams  actor  Ralph Sinclair  NaN   \n",
       "2  388 Arletta Avenue  2011  Aaron Abrams  actor            Alex  4.0   \n",
       "3  388 Arletta Avenue  2011  Aaron Abrams  actor            Alex  4.0   \n",
       "4              Amelia  2009  Aaron Abrams  actor     Slim Gordon  8.0   \n",
       "\n",
       "               name_y type_y     character_y  n_y  \n",
       "0        Aaron Abrams  actor  Ralph Sinclair  NaN  \n",
       "1  Christian Ackerman  actor           Simon  NaN  \n",
       "2        Graham Abbey  actor      Officer #2  8.0  \n",
       "3        Aaron Abrams  actor            Alex  4.0  \n",
       "4        Aaron Abrams  actor     Slim Gordon  8.0  "
      ]
     },
     "execution_count": 112,
     "metadata": {},
     "output_type": "execute_result"
    }
   ],
   "source": [
    "c.merge(casts, on=['title', 'year']).head()\n"
   ]
  },
  {
   "cell_type": "code",
   "execution_count": 113,
   "metadata": {},
   "outputs": [
    {
     "data": {
      "text/html": [
       "<div>\n",
       "<style scoped>\n",
       "    .dataframe tbody tr th:only-of-type {\n",
       "        vertical-align: middle;\n",
       "    }\n",
       "\n",
       "    .dataframe tbody tr th {\n",
       "        vertical-align: top;\n",
       "    }\n",
       "\n",
       "    .dataframe thead th {\n",
       "        text-align: right;\n",
       "    }\n",
       "</style>\n",
       "<table border=\"1\" class=\"dataframe\">\n",
       "  <thead>\n",
       "    <tr style=\"text-align: right;\">\n",
       "      <th></th>\n",
       "      <th>title</th>\n",
       "      <th>year</th>\n",
       "      <th>name_x</th>\n",
       "      <th>type_x</th>\n",
       "      <th>character_x</th>\n",
       "      <th>n_x</th>\n",
       "      <th>name_y</th>\n",
       "      <th>type_y</th>\n",
       "      <th>character_y</th>\n",
       "      <th>n_y</th>\n",
       "    </tr>\n",
       "  </thead>\n",
       "  <tbody>\n",
       "    <tr>\n",
       "      <th>1</th>\n",
       "      <td>#FromJennifer</td>\n",
       "      <td>2017</td>\n",
       "      <td>Aaron Abrams</td>\n",
       "      <td>actor</td>\n",
       "      <td>Ralph Sinclair</td>\n",
       "      <td>NaN</td>\n",
       "      <td>Christian Ackerman</td>\n",
       "      <td>actor</td>\n",
       "      <td>Simon</td>\n",
       "      <td>NaN</td>\n",
       "    </tr>\n",
       "    <tr>\n",
       "      <th>2</th>\n",
       "      <td>388 Arletta Avenue</td>\n",
       "      <td>2011</td>\n",
       "      <td>Aaron Abrams</td>\n",
       "      <td>actor</td>\n",
       "      <td>Alex</td>\n",
       "      <td>4.0</td>\n",
       "      <td>Graham Abbey</td>\n",
       "      <td>actor</td>\n",
       "      <td>Officer #2</td>\n",
       "      <td>8.0</td>\n",
       "    </tr>\n",
       "    <tr>\n",
       "      <th>5</th>\n",
       "      <td>Amelia</td>\n",
       "      <td>2009</td>\n",
       "      <td>Aaron Abrams</td>\n",
       "      <td>actor</td>\n",
       "      <td>Slim Gordon</td>\n",
       "      <td>8.0</td>\n",
       "      <td>Jeremy Akerman</td>\n",
       "      <td>actor</td>\n",
       "      <td>Sheriff</td>\n",
       "      <td>19.0</td>\n",
       "    </tr>\n",
       "    <tr>\n",
       "      <th>8</th>\n",
       "      <td>Cinderella Man</td>\n",
       "      <td>2005</td>\n",
       "      <td>Aaron Abrams</td>\n",
       "      <td>actor</td>\n",
       "      <td>1928 Fan</td>\n",
       "      <td>67.0</td>\n",
       "      <td>Nick Alachiotis</td>\n",
       "      <td>actor</td>\n",
       "      <td>Baer Cornerman</td>\n",
       "      <td>38.0</td>\n",
       "    </tr>\n",
       "    <tr>\n",
       "      <th>9</th>\n",
       "      <td>Cinderella Man</td>\n",
       "      <td>2005</td>\n",
       "      <td>Aaron Abrams</td>\n",
       "      <td>actor</td>\n",
       "      <td>1928 Fan</td>\n",
       "      <td>67.0</td>\n",
       "      <td>Nick Alachiotis</td>\n",
       "      <td>actor</td>\n",
       "      <td>Undercard Boxer - Feldman</td>\n",
       "      <td>38.0</td>\n",
       "    </tr>\n",
       "  </tbody>\n",
       "</table>\n",
       "</div>"
      ],
      "text/plain": [
       "                title  year        name_x type_x     character_x   n_x  \\\n",
       "1       #FromJennifer  2017  Aaron Abrams  actor  Ralph Sinclair   NaN   \n",
       "2  388 Arletta Avenue  2011  Aaron Abrams  actor            Alex   4.0   \n",
       "5              Amelia  2009  Aaron Abrams  actor     Slim Gordon   8.0   \n",
       "8      Cinderella Man  2005  Aaron Abrams  actor        1928 Fan  67.0   \n",
       "9      Cinderella Man  2005  Aaron Abrams  actor        1928 Fan  67.0   \n",
       "\n",
       "               name_y type_y                character_y   n_y  \n",
       "1  Christian Ackerman  actor                      Simon   NaN  \n",
       "2        Graham Abbey  actor                 Officer #2   8.0  \n",
       "5      Jeremy Akerman  actor                    Sheriff  19.0  \n",
       "8     Nick Alachiotis  actor             Baer Cornerman  38.0  \n",
       "9     Nick Alachiotis  actor  Undercard Boxer - Feldman  38.0  "
      ]
     },
     "execution_count": 113,
     "metadata": {},
     "output_type": "execute_result"
    }
   ],
   "source": [
    "c_costar = c.merge (casts, on=['title', 'year'])\n",
    "c_costar = c_costar[c_costar['name_y'] != 'Aaron Abrams']\n",
    "c_costar.head()"
   ]
  },
  {
   "cell_type": "markdown",
   "metadata": {},
   "source": [
    "NUMPY"
   ]
  },
  {
   "cell_type": "code",
   "execution_count": 114,
   "metadata": {},
   "outputs": [],
   "source": [
    "import numpy as np"
   ]
  },
  {
   "cell_type": "code",
   "execution_count": 117,
   "metadata": {},
   "outputs": [
    {
     "data": {
      "text/plain": [
       "numpy.ndarray"
      ]
     },
     "execution_count": 117,
     "metadata": {},
     "output_type": "execute_result"
    }
   ],
   "source": [
    "# 1-D array\n",
    "d = np.array([1,2,3])\n",
    "type(d)"
   ]
  },
  {
   "cell_type": "code",
   "execution_count": 116,
   "metadata": {},
   "outputs": [
    {
     "data": {
      "text/plain": [
       "array([1, 2, 3])"
      ]
     },
     "execution_count": 116,
     "metadata": {},
     "output_type": "execute_result"
    }
   ],
   "source": [
    "d"
   ]
  },
  {
   "cell_type": "code",
   "execution_count": 121,
   "metadata": {},
   "outputs": [
    {
     "data": {
      "text/plain": [
       "numpy.ndarray"
      ]
     },
     "execution_count": 121,
     "metadata": {},
     "output_type": "execute_result"
    }
   ],
   "source": [
    "# multi-dimensional array\n",
    "nd = np.array([[1,2,3],\n",
    "                [3,4,5],\n",
    "                [10,11,12]])\n",
    "type(nd)"
   ]
  },
  {
   "cell_type": "code",
   "execution_count": 120,
   "metadata": {},
   "outputs": [
    {
     "data": {
      "text/plain": [
       "array([[ 1,  2,  3],\n",
       "       [ 3,  4,  5],\n",
       "       [10, 11, 12]])"
      ]
     },
     "execution_count": 120,
     "metadata": {},
     "output_type": "execute_result"
    }
   ],
   "source": [
    "nd"
   ]
  },
  {
   "cell_type": "code",
   "execution_count": 122,
   "metadata": {},
   "outputs": [
    {
     "data": {
      "text/plain": [
       "(3, 3)"
      ]
     },
     "execution_count": 122,
     "metadata": {},
     "output_type": "execute_result"
    }
   ],
   "source": [
    "nd.shape # shape of the array"
   ]
  },
  {
   "cell_type": "code",
   "execution_count": 123,
   "metadata": {},
   "outputs": [
    {
     "data": {
      "text/plain": [
       "dtype('int32')"
      ]
     },
     "execution_count": 123,
     "metadata": {},
     "output_type": "execute_result"
    }
   ],
   "source": [
    "nd.dtype # data type"
   ]
  },
  {
   "cell_type": "code",
   "execution_count": 127,
   "metadata": {},
   "outputs": [],
   "source": [
    "n = np.zeros((3,3)) # zero matrix"
   ]
  },
  {
   "cell_type": "code",
   "execution_count": 128,
   "metadata": {},
   "outputs": [
    {
     "data": {
      "text/plain": [
       "numpy.ndarray"
      ]
     },
     "execution_count": 128,
     "metadata": {},
     "output_type": "execute_result"
    }
   ],
   "source": [
    "type(n)"
   ]
  },
  {
   "cell_type": "code",
   "execution_count": 131,
   "metadata": {},
   "outputs": [],
   "source": [
    "e = np.eye(3) # diagonal matrix "
   ]
  },
  {
   "cell_type": "code",
   "execution_count": 132,
   "metadata": {},
   "outputs": [
    {
     "data": {
      "text/plain": [
       "array([[1., 0., 0.],\n",
       "       [0., 1., 0.],\n",
       "       [0., 0., 1.]])"
      ]
     },
     "execution_count": 132,
     "metadata": {},
     "output_type": "execute_result"
    }
   ],
   "source": [
    "e"
   ]
  },
  {
   "cell_type": "code",
   "execution_count": 133,
   "metadata": {},
   "outputs": [],
   "source": [
    "e2 = e + 2 "
   ]
  },
  {
   "cell_type": "code",
   "execution_count": 134,
   "metadata": {},
   "outputs": [
    {
     "data": {
      "text/plain": [
       "array([[3., 2., 2.],\n",
       "       [2., 3., 2.],\n",
       "       [2., 2., 3.]])"
      ]
     },
     "execution_count": 134,
     "metadata": {},
     "output_type": "execute_result"
    }
   ],
   "source": [
    "e2"
   ]
  },
  {
   "cell_type": "code",
   "execution_count": 135,
   "metadata": {},
   "outputs": [
    {
     "data": {
      "text/plain": [
       "array([[1., 1., 1.],\n",
       "       [1., 1., 1.],\n",
       "       [1., 1., 1.]])"
      ]
     },
     "execution_count": 135,
     "metadata": {},
     "output_type": "execute_result"
    }
   ],
   "source": [
    "#  create matrix with all entries as 1 and size as 'e2'\n",
    "o = np.ones_like(e2)\n",
    "o"
   ]
  },
  {
   "cell_type": "code",
   "execution_count": 136,
   "metadata": {},
   "outputs": [
    {
     "data": {
      "text/plain": [
       "dtype('float64')"
      ]
     },
     "execution_count": 136,
     "metadata": {},
     "output_type": "execute_result"
    }
   ],
   "source": [
    "o.dtype"
   ]
  },
  {
   "cell_type": "code",
   "execution_count": 137,
   "metadata": {},
   "outputs": [],
   "source": [
    "oi = o.astype(np.int32)"
   ]
  },
  {
   "cell_type": "code",
   "execution_count": 138,
   "metadata": {},
   "outputs": [
    {
     "data": {
      "text/plain": [
       "array([[1, 1, 1],\n",
       "       [1, 1, 1],\n",
       "       [1, 1, 1]])"
      ]
     },
     "execution_count": 138,
     "metadata": {},
     "output_type": "execute_result"
    }
   ],
   "source": [
    "oi"
   ]
  },
  {
   "cell_type": "code",
   "execution_count": 139,
   "metadata": {},
   "outputs": [
    {
     "data": {
      "text/plain": [
       "dtype('int32')"
      ]
     },
     "execution_count": 139,
     "metadata": {},
     "output_type": "execute_result"
    }
   ],
   "source": [
    "oi.dtype"
   ]
  },
  {
   "cell_type": "code",
   "execution_count": 140,
   "metadata": {},
   "outputs": [
    {
     "data": {
      "text/plain": [
       "array([[ 0.06502746, -0.95837107,  0.10261798],\n",
       "       [ 0.37715943, -0.03965446,  1.13466867],\n",
       "       [-0.15299705, -0.54108954, -0.15498265],\n",
       "       [ 1.44476833, -1.7368494 , -0.89846955],\n",
       "       [-0.46674314,  0.32288272,  0.11604316]])"
      ]
     },
     "execution_count": 140,
     "metadata": {},
     "output_type": "execute_result"
    }
   ],
   "source": [
    "# accessing data with boolean indexing\n",
    "data = np.random.randn(5, 3)\n",
    "data"
   ]
  },
  {
   "cell_type": "code",
   "execution_count": 143,
   "metadata": {},
   "outputs": [
    {
     "data": {
      "text/plain": [
       "array([ True, False, False,  True, False])"
      ]
     },
     "execution_count": 143,
     "metadata": {},
     "output_type": "execute_result"
    }
   ],
   "source": [
    "name = np.array(['a', 'b', 'c', 'a', 'b'])\n",
    "name == 'a'"
   ]
  },
  {
   "cell_type": "code",
   "execution_count": 148,
   "metadata": {},
   "outputs": [],
   "source": [
    "a = np.arange(0, 20, 2)"
   ]
  },
  {
   "cell_type": "code",
   "execution_count": 149,
   "metadata": {},
   "outputs": [
    {
     "data": {
      "text/plain": [
       "array([ 0,  2,  4,  6,  8, 10, 12, 14, 16, 18])"
      ]
     },
     "execution_count": 149,
     "metadata": {},
     "output_type": "execute_result"
    }
   ],
   "source": [
    "a"
   ]
  },
  {
   "cell_type": "code",
   "execution_count": 152,
   "metadata": {},
   "outputs": [
    {
     "data": {
      "text/plain": [
       "(10,)"
      ]
     },
     "execution_count": 152,
     "metadata": {},
     "output_type": "execute_result"
    }
   ],
   "source": [
    "a.shape"
   ]
  },
  {
   "cell_type": "code",
   "execution_count": 156,
   "metadata": {},
   "outputs": [],
   "source": [
    "a45 = a.reshape(5, 2) # reshaping the arrary "
   ]
  },
  {
   "cell_type": "code",
   "execution_count": 157,
   "metadata": {},
   "outputs": [
    {
     "data": {
      "text/plain": [
       "array([[ 0,  2],\n",
       "       [ 4,  6],\n",
       "       [ 8, 10],\n",
       "       [12, 14],\n",
       "       [16, 18]])"
      ]
     },
     "execution_count": 157,
     "metadata": {},
     "output_type": "execute_result"
    }
   ],
   "source": [
    "a45"
   ]
  },
  {
   "cell_type": "code",
   "execution_count": 158,
   "metadata": {},
   "outputs": [
    {
     "data": {
      "text/plain": [
       "array([[ 8, 10],\n",
       "       [ 0,  2],\n",
       "       [ 4,  6]])"
      ]
     },
     "execution_count": 158,
     "metadata": {},
     "output_type": "execute_result"
    }
   ],
   "source": [
    "b = a45[ [2, 0, 1] ] #  select row 2, 0 and 1 from a45 and store in b\n",
    "b"
   ]
  },
  {
   "cell_type": "code",
   "execution_count": 159,
   "metadata": {},
   "outputs": [
    {
     "data": {
      "text/plain": [
       "array([[ 8,  0,  4],\n",
       "       [10,  2,  6]])"
      ]
     },
     "execution_count": 159,
     "metadata": {},
     "output_type": "execute_result"
    }
   ],
   "source": [
    "b.T # Transpose array b"
   ]
  },
  {
   "cell_type": "code",
   "execution_count": 161,
   "metadata": {},
   "outputs": [
    {
     "data": {
      "text/plain": [
       "(3, 2)"
      ]
     },
     "execution_count": 161,
     "metadata": {},
     "output_type": "execute_result"
    }
   ],
   "source": [
    "b.shape"
   ]
  },
  {
   "cell_type": "code",
   "execution_count": 162,
   "metadata": {},
   "outputs": [
    {
     "data": {
      "text/plain": [
       "array([[ 0,  1,  2,  3],\n",
       "       [ 4,  5,  6,  7],\n",
       "       [ 8,  9, 10, 11]])"
      ]
     },
     "execution_count": 162,
     "metadata": {},
     "output_type": "execute_result"
    }
   ],
   "source": [
    "# Concatenating \n",
    "\n",
    "arr = np.arange(12).reshape(3, 4)\n",
    "rn = np.random.randn(3, 4)\n",
    "arr"
   ]
  },
  {
   "cell_type": "code",
   "execution_count": 163,
   "metadata": {},
   "outputs": [
    {
     "data": {
      "text/plain": [
       "array([[ 1.58465391, -0.55729381, -1.09070934, -1.45043759],\n",
       "       [-0.77114476,  0.92395972,  1.88994099, -0.33359479],\n",
       "       [ 0.97281979, -0.67032123,  0.05129625, -0.77177377]])"
      ]
     },
     "execution_count": 163,
     "metadata": {},
     "output_type": "execute_result"
    }
   ],
   "source": [
    "rn"
   ]
  },
  {
   "cell_type": "code",
   "execution_count": 164,
   "metadata": {},
   "outputs": [
    {
     "data": {
      "text/plain": [
       "array([[ 0.        ,  1.        ,  2.        ,  3.        ],\n",
       "       [ 4.        ,  5.        ,  6.        ,  7.        ],\n",
       "       [ 8.        ,  9.        , 10.        , 11.        ],\n",
       "       [ 1.58465391, -0.55729381, -1.09070934, -1.45043759],\n",
       "       [-0.77114476,  0.92395972,  1.88994099, -0.33359479],\n",
       "       [ 0.97281979, -0.67032123,  0.05129625, -0.77177377]])"
      ]
     },
     "execution_count": 164,
     "metadata": {},
     "output_type": "execute_result"
    }
   ],
   "source": [
    "np.concatenate([arr, rn]) # merge data of rn below the arr "
   ]
  },
  {
   "cell_type": "code",
   "execution_count": 165,
   "metadata": {},
   "outputs": [
    {
     "data": {
      "text/plain": [
       "array([[ 0.        ,  1.        ,  2.        ,  3.        ,  1.58465391,\n",
       "        -0.55729381, -1.09070934, -1.45043759],\n",
       "       [ 4.        ,  5.        ,  6.        ,  7.        , -0.77114476,\n",
       "         0.92395972,  1.88994099, -0.33359479],\n",
       "       [ 8.        ,  9.        , 10.        , 11.        ,  0.97281979,\n",
       "        -0.67032123,  0.05129625, -0.77177377]])"
      ]
     },
     "execution_count": 165,
     "metadata": {},
     "output_type": "execute_result"
    }
   ],
   "source": [
    "np.concatenate([arr, rn], axis = 1)"
   ]
  },
  {
   "cell_type": "code",
   "execution_count": null,
   "metadata": {},
   "outputs": [],
   "source": []
  }
 ],
 "metadata": {
  "kernelspec": {
   "display_name": "Python 3.10.7 64-bit",
   "language": "python",
   "name": "python3"
  },
  "language_info": {
   "codemirror_mode": {
    "name": "ipython",
    "version": 3
   },
   "file_extension": ".py",
   "mimetype": "text/x-python",
   "name": "python",
   "nbconvert_exporter": "python",
   "pygments_lexer": "ipython3",
   "version": "3.10.7"
  },
  "orig_nbformat": 4,
  "vscode": {
   "interpreter": {
    "hash": "3369b3a75f9b9f773b7395262b1c35dbdb20bc837bfadc97feb5ad4b64f8b5a0"
   }
  }
 },
 "nbformat": 4,
 "nbformat_minor": 2
}
